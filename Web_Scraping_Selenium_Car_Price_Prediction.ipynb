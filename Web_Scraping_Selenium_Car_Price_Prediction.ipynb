{
 "cells": [
  {
   "cell_type": "code",
   "execution_count": 2,
   "id": "3d5b074b",
   "metadata": {},
   "outputs": [],
   "source": [
    "# Import required libraries\n",
    "import pandas as pd\n",
    "import selenium\n",
    "from bs4 import BeautifulSoup\n",
    "import time\n",
    "# Importing required Exceptions which needs to handled\n",
    "from selenium.common.exceptions import StaleElementReferenceException, NoSuchElementException\n",
    "\n",
    "import warnings\n",
    "warnings.filterwarnings('ignore')"
   ]
  },
  {
   "cell_type": "code",
   "execution_count": null,
   "id": "a9ac07b0",
   "metadata": {},
   "outputs": [],
   "source": [
    "!pip install selenium"
   ]
  },
  {
   "cell_type": "code",
   "execution_count": 6,
   "id": "19b181e5",
   "metadata": {},
   "outputs": [],
   "source": [
    "# Importing selenium webdriver\n",
    "from selenium import webdriver\n",
    "import requests"
   ]
  },
  {
   "cell_type": "code",
   "execution_count": 7,
   "id": "3d94ee8c",
   "metadata": {},
   "outputs": [
    {
     "data": {
      "text/plain": [
       "<selenium.webdriver.chrome.webdriver.WebDriver (session=\"189221aa28d59ad3a313a48b33d815a9\")>"
      ]
     },
     "execution_count": 7,
     "metadata": {},
     "output_type": "execute_result"
    }
   ],
   "source": [
    "# connect first with webdriver\n",
    "driver = webdriver.Chrome(r\"C:\\Users\\admin\\Desktop\\Python basis\\chromedriver.exe\")\n",
    "driver"
   ]
  },
  {
   "cell_type": "code",
   "execution_count": 23,
   "id": "b30cfc5b",
   "metadata": {},
   "outputs": [],
   "source": [
    "\n",
    "#Opening the url\n",
    "url='https://www.olx.in/'\n",
    "driver.get(url)"
   ]
  },
  {
   "cell_type": "code",
   "execution_count": 73,
   "id": "ca441f6f",
   "metadata": {},
   "outputs": [
    {
     "data": {
      "text/plain": [
       "<selenium.webdriver.remote.webelement.WebElement (session=\"b60ea806d69f657980787f0707735c3d\", element=\"b5ee810c-fa0a-434d-9a94-cdcf1a83cb0c\")>"
      ]
     },
     "execution_count": 73,
     "metadata": {},
     "output_type": "execute_result"
    }
   ],
   "source": [
    "search_car = driver.find_element_by_xpath('//div[@class=\"zYZEU\"]')\n",
    "search_car"
   ]
  },
  {
   "cell_type": "code",
   "execution_count": 74,
   "id": "9b8a3cf7",
   "metadata": {},
   "outputs": [
    {
     "name": "stdout",
     "output_type": "stream",
     "text": [
      "Enter the product you want to search : used Sedan cars\n"
     ]
    }
   ],
   "source": [
    "# Asking the user to input the keywords he/she wants to search\n",
    "user_inp = input('Enter the product you want to search : ')"
   ]
  },
  {
   "cell_type": "code",
   "execution_count": 75,
   "id": "56be7117",
   "metadata": {},
   "outputs": [],
   "source": [
    "search_car = driver.find_element_by_xpath('//div[@class=\"zYZEU\"]//input')  # loacting search_bar bu xpath\n",
    "search_car.send_keys(user_inp)\n",
    "search_button = driver.find_element_by_xpath('//div[@class=\"_3b3oR\"]')\n",
    "search_button.click()"
   ]
  },
  {
   "cell_type": "code",
   "execution_count": 76,
   "id": "f10c6c45",
   "metadata": {},
   "outputs": [],
   "source": [
    "#scrape all product in urls\n",
    "urls = []\n",
    "for i in range(0,1): #for loop for scrapping 1 page\n",
    "    for j in driver.find_elements_by_xpath('//li[@class=\"EIR5N\"]//a'):\n",
    "        urls.append(j.get_attribute('href'))"
   ]
  },
  {
   "cell_type": "code",
   "execution_count": 77,
   "id": "0ed72695",
   "metadata": {},
   "outputs": [
    {
     "data": {
      "text/plain": [
       "['https://www.olx.in/item/bmw-520d-sedan-brand-new-condition-with-new-tyre-iid-1657414060',\n",
       " 'https://www.olx.in/item/bmw-3-series-320d-sedan-2012-diesel-iid-1658625607',\n",
       " 'https://www.olx.in/item/bmw-7-series-730ld-sedan-2013-diesel-iid-1660264680',\n",
       " 'https://www.olx.in/item/audi-a4-s-line-20-tdi-sunroof-diesel-at-top-model-luxury-sedan-iid-1659830982',\n",
       " 'https://www.olx.in/item/suv-sedan-car-cout-me-lagni-hai-iid-1661963786',\n",
       " 'https://www.olx.in/item/april-2019-ford-figo-aspire-diesel-sedan-good-condition-iid-1644305484',\n",
       " 'https://www.olx.in/item/bmw-3-series-320i-sedan-2011-petrol-iid-1660518862',\n",
       " 'https://www.olx.in/item/bmw-5-series-530d-highline-sedan-2010-diesel-iid-1661247822',\n",
       " 'https://www.olx.in/item/well-maintained-tough-build-sedan-with-best-in-segment-boot-space-iid-1657100278',\n",
       " 'https://www.olx.in/item/bmw-5-series-523i-sedan-2008-petrol-iid-1660786902',\n",
       " 'https://www.olx.in/item/bmw-7-series-740li-sedan-2011-petrol-iid-1661214038',\n",
       " 'https://www.olx.in/item/bmw-7-series-730ld-sedan-2011-diesel-iid-1661212077',\n",
       " 'https://www.olx.in/item/bmw-3-series-320i-sedan-2010-petrol-iid-1651862026',\n",
       " 'https://www.olx.in/item/bmw-5-series-2010-2013-520d-sedan-2012-diesel-iid-1650322121',\n",
       " 'https://www.olx.in/item/bmw-3-series-320d-sedan-2010-diesel-iid-1650761834',\n",
       " 'https://www.olx.in/item/bmw-5-series-2010-2013-520d-sedan-2011-diesel-iid-1661204096',\n",
       " 'https://www.olx.in/item/bmw-5-series-520d-sedan-2014-diesel-iid-1614883359',\n",
       " 'https://www.olx.in/item/maruti-suzuki-baleno-16-sedan-2006-petrol-good-condition-iid-1661919861',\n",
       " 'https://www.olx.in/item/bmw-5-series-530d-highline-sedan-2012-diesel-iid-1661049675',\n",
       " 'https://www.olx.in/item/bmw-7-series-740li-sedan-2011-petrol-iid-1652956988']"
      ]
     },
     "execution_count": 77,
     "metadata": {},
     "output_type": "execute_result"
    }
   ],
   "source": [
    "urls"
   ]
  },
  {
   "cell_type": "code",
   "execution_count": 78,
   "id": "ea1a3ee4",
   "metadata": {},
   "outputs": [
    {
     "data": {
      "text/plain": [
       "20"
      ]
     },
     "execution_count": 78,
     "metadata": {},
     "output_type": "execute_result"
    }
   ],
   "source": [
    "len(urls)"
   ]
  },
  {
   "cell_type": "code",
   "execution_count": 79,
   "id": "43efc29d",
   "metadata": {},
   "outputs": [],
   "source": [
    "# finding required details\n",
    "model_list = [] #empty list\n",
    "year_km_list = [] #empty list\n",
    "location_list = [] #empty list\n",
    "price_list = [] #empty list"
   ]
  },
  {
   "cell_type": "code",
   "execution_count": 81,
   "id": "a779418c",
   "metadata": {},
   "outputs": [],
   "source": [
    "# extract all tags having the price_list\n",
    "price_tags = driver.find_elements_by_xpath('//span[@class=\"_89yzn\"]')"
   ]
  },
  {
   "cell_type": "code",
   "execution_count": 82,
   "id": "540d4b54",
   "metadata": {},
   "outputs": [
    {
     "data": {
      "text/plain": [
       "['₹ 10,99,999',\n",
       " '₹ 6,50,000',\n",
       " '₹ 24,50,000',\n",
       " '₹ 5,79,000',\n",
       " '₹ 7,00,000',\n",
       " '₹ 9,75,000',\n",
       " '₹ 6,99,999',\n",
       " '₹ 2,00,000',\n",
       " '₹ 5,50,000',\n",
       " '₹ 14,75,000',\n",
       " '₹ 14,75,000',\n",
       " '₹ 8,25,000',\n",
       " '₹ 16,00,000',\n",
       " '₹ 6,00,000',\n",
       " '₹ 13,50,000',\n",
       " '₹ 19,99,999',\n",
       " '₹ 2,75,000',\n",
       " '₹ 14,50,000',\n",
       " '₹ 16,50,000']"
      ]
     },
     "execution_count": 82,
     "metadata": {},
     "output_type": "execute_result"
    }
   ],
   "source": [
    "price_list = [] #empty list\n",
    "\n",
    "for i in price_tags:\n",
    "    price_list.append(i.text)\n",
    "    \n",
    "price_list"
   ]
  },
  {
   "cell_type": "code",
   "execution_count": 83,
   "id": "d4a36f3e",
   "metadata": {},
   "outputs": [
    {
     "data": {
      "text/plain": [
       "19"
      ]
     },
     "execution_count": 83,
     "metadata": {},
     "output_type": "execute_result"
    }
   ],
   "source": [
    "len(price_list)"
   ]
  },
  {
   "cell_type": "code",
   "execution_count": 84,
   "id": "6f62ce36",
   "metadata": {},
   "outputs": [
    {
     "data": {
      "text/plain": [
       "['BMW 520D SEDAN BRAND NEW CONDITION WITH NEW TYRE',\n",
       " 'BMW 3 Series 320d Sedan, 2012, Diesel',\n",
       " 'BMW 7 Series 730Ld Sedan, 2013, Diesel',\n",
       " 'AUDI A4 S-line 2.0 TDi SUNROOF Diesel AT Top Model Luxury Sedan',\n",
       " 'April 2019 Ford Figo Aspire Diesel Sedan Good Condition',\n",
       " 'BMW 3 Series 320i Sedan, 2011, Petrol',\n",
       " 'BMW 5 Series 530d Highline Sedan, 2010, Diesel',\n",
       " 'Well Maintained Tough Build Sedan, with best in segment boot space.',\n",
       " 'BMW 5 Series 523i Sedan, 2008, Petrol',\n",
       " 'BMW 7 Series 740Li Sedan, 2011, Petrol',\n",
       " 'BMW 7 Series 730Ld Sedan, 2011, Diesel',\n",
       " 'BMW 3 Series 320i Sedan, 2010, Petrol',\n",
       " 'BMW 5 Series 2010-2013 520d Sedan, 2012, Diesel',\n",
       " 'BMW 3 Series 320d Sedan, 2010, Diesel',\n",
       " 'BMW 5 Series 2010-2013 520d Sedan, 2011, Diesel',\n",
       " 'BMW 5 Series 520d Sedan, 2014, Diesel',\n",
       " 'Maruti Suzuki Baleno 1.6 sedan 2006 Petrol Good Condition',\n",
       " 'BMW 5 Series 530d Highline Sedan, 2012, Diesel',\n",
       " 'BMW 7 Series 740Li Sedan, 2011, Petrol']"
      ]
     },
     "execution_count": 84,
     "metadata": {},
     "output_type": "execute_result"
    }
   ],
   "source": [
    "#extract all tags having model_list\n",
    "model_tags = driver.find_elements_by_xpath('//span[@class=\"_2tW1I\"]')\n",
    "model_list = []\n",
    "for i in model_tags:\n",
    "    model_list.append(i.text)\n",
    "model_list\n",
    "    "
   ]
  },
  {
   "cell_type": "code",
   "execution_count": 85,
   "id": "e32a10bf",
   "metadata": {},
   "outputs": [
    {
     "data": {
      "text/plain": [
       "19"
      ]
     },
     "execution_count": 85,
     "metadata": {},
     "output_type": "execute_result"
    }
   ],
   "source": [
    "len(model_list)"
   ]
  },
  {
   "cell_type": "code",
   "execution_count": 154,
   "id": "c32dcb65",
   "metadata": {},
   "outputs": [
    {
     "data": {
      "text/plain": [
       "['KATTOOR, COIMBATORE',\n",
       " 'NARAINA, DELHI',\n",
       " 'MAHADEV VIHAR, DEHRADUN',\n",
       " 'VAISHALI NAGAR, AJMER',\n",
       " 'CHAUDHARI TOLA, LUCKNOW',\n",
       " 'BAKKANNAPALEM, MADHURAWADA',\n",
       " 'POWAI, MUMBAI',\n",
       " 'INDUSTRIAL AREA, CHANDIGARH',\n",
       " 'RAJ NAGAR EXTENSION, GHAZIABAD',\n",
       " 'RAJOURI GARDEN, DELHI',\n",
       " 'GREATER KAILASH, DELHI',\n",
       " 'DHAULA KUAN, DELHI',\n",
       " 'KHARGHAR, NAVI MUMBAI',\n",
       " 'VIJAY NAGAR, INDORE',\n",
       " 'PARKESH NAGAR, LUDHIANA',\n",
       " 'ADAJAN, SURAT',\n",
       " 'JANGPURA, DELHI',\n",
       " 'NAGAMPADAM, KOTTAYAM',\n",
       " 'SAROJINI NAGAR, DELHI',\n",
       " 'JANTA NAGAR, LUDHIANA']"
      ]
     },
     "execution_count": 154,
     "metadata": {},
     "output_type": "execute_result"
    }
   ],
   "source": [
    "#extract all data in tags haing location_list\n",
    "location_tags = driver.find_elements_by_xpath('//span[@class=\"tjgMj\"]')\n",
    "location_list = []\n",
    "for i in location_tags:\n",
    "    location_list.append(i.text)\n",
    "location_list"
   ]
  },
  {
   "cell_type": "code",
   "execution_count": 155,
   "id": "b9927bae",
   "metadata": {},
   "outputs": [
    {
     "data": {
      "text/plain": [
       "20"
      ]
     },
     "execution_count": 155,
     "metadata": {},
     "output_type": "execute_result"
    }
   ],
   "source": [
    "len(location_list)"
   ]
  },
  {
   "cell_type": "code",
   "execution_count": 131,
   "id": "cfd27d7e",
   "metadata": {},
   "outputs": [
    {
     "data": {
      "text/plain": [
       "['2012 - 35000.0 km',\n",
       " '2016 - 26,000 km',\n",
       " '2010 - 69,000 km',\n",
       " '2010 - 97,000 km',\n",
       " '2019 - 55,000 km',\n",
       " '2011 - 9,500 km',\n",
       " '2010 - 80,000 km',\n",
       " '2012 - 114,000 km',\n",
       " '2008 - 52,000 km',\n",
       " '2011 - 60,000 km',\n",
       " '2011 - 70,000 km',\n",
       " '2010 - 50,000 km',\n",
       " '2012 - 90,000 km',\n",
       " '2010 - 90,000 km',\n",
       " '2011 - 88,000 km',\n",
       " '2014 - 75,382 km',\n",
       " '2006 - 71,000 km',\n",
       " '2012 - 75,000 km',\n",
       " '2011 - 75,000 km']"
      ]
     },
     "execution_count": 131,
     "metadata": {},
     "output_type": "execute_result"
    }
   ],
   "source": [
    "#extract all data in tags having year_km_list\n",
    "km_tags = driver.find_elements_by_xpath('//span[@class=\"_2TVI3\"]')\n",
    "year_km_list = []\n",
    "for i in km_tags:\n",
    "    year_km_list.append(i.text)\n",
    "year_km_list\n",
    "    "
   ]
  },
  {
   "cell_type": "code",
   "execution_count": 133,
   "id": "18461c0c",
   "metadata": {},
   "outputs": [
    {
     "data": {
      "text/plain": [
       "19"
      ]
     },
     "execution_count": 133,
     "metadata": {},
     "output_type": "execute_result"
    }
   ],
   "source": [
    "len(year_km_list)"
   ]
  },
  {
   "cell_type": "code",
   "execution_count": 156,
   "id": "7158ae1a",
   "metadata": {},
   "outputs": [
    {
     "data": {
      "text/html": [
       "<div>\n",
       "<style scoped>\n",
       "    .dataframe tbody tr th:only-of-type {\n",
       "        vertical-align: middle;\n",
       "    }\n",
       "\n",
       "    .dataframe tbody tr th {\n",
       "        vertical-align: top;\n",
       "    }\n",
       "\n",
       "    .dataframe thead th {\n",
       "        text-align: right;\n",
       "    }\n",
       "</style>\n",
       "<table border=\"1\" class=\"dataframe\">\n",
       "  <thead>\n",
       "    <tr style=\"text-align: right;\">\n",
       "      <th></th>\n",
       "      <th>model_list</th>\n",
       "      <th>year_km_list</th>\n",
       "      <th>location_list</th>\n",
       "      <th>price_list</th>\n",
       "    </tr>\n",
       "  </thead>\n",
       "  <tbody>\n",
       "    <tr>\n",
       "      <th>0</th>\n",
       "      <td>BMW 520D SEDAN BRAND NEW CONDITION WITH NEW TYRE</td>\n",
       "      <td>2012 - 35000.0 km</td>\n",
       "      <td>KATTOOR, COIMBATORE</td>\n",
       "      <td>₹ 10,99,999</td>\n",
       "    </tr>\n",
       "    <tr>\n",
       "      <th>1</th>\n",
       "      <td>BMW 3 Series 320d Sedan, 2012, Diesel</td>\n",
       "      <td>2016 - 26,000 km</td>\n",
       "      <td>NARAINA, DELHI</td>\n",
       "      <td>₹ 6,50,000</td>\n",
       "    </tr>\n",
       "    <tr>\n",
       "      <th>2</th>\n",
       "      <td>BMW 7 Series 730Ld Sedan, 2013, Diesel</td>\n",
       "      <td>2010 - 69,000 km</td>\n",
       "      <td>MAHADEV VIHAR, DEHRADUN</td>\n",
       "      <td>₹ 24,50,000</td>\n",
       "    </tr>\n",
       "    <tr>\n",
       "      <th>3</th>\n",
       "      <td>AUDI A4 S-line 2.0 TDi SUNROOF Diesel AT Top M...</td>\n",
       "      <td>2010 - 97,000 km</td>\n",
       "      <td>VAISHALI NAGAR, AJMER</td>\n",
       "      <td>₹ 5,79,000</td>\n",
       "    </tr>\n",
       "    <tr>\n",
       "      <th>4</th>\n",
       "      <td>April 2019 Ford Figo Aspire Diesel Sedan Good ...</td>\n",
       "      <td>2019 - 55,000 km</td>\n",
       "      <td>CHAUDHARI TOLA, LUCKNOW</td>\n",
       "      <td>₹ 7,00,000</td>\n",
       "    </tr>\n",
       "    <tr>\n",
       "      <th>5</th>\n",
       "      <td>BMW 3 Series 320i Sedan, 2011, Petrol</td>\n",
       "      <td>2011 - 9,500 km</td>\n",
       "      <td>BAKKANNAPALEM, MADHURAWADA</td>\n",
       "      <td>₹ 9,75,000</td>\n",
       "    </tr>\n",
       "    <tr>\n",
       "      <th>6</th>\n",
       "      <td>BMW 5 Series 530d Highline Sedan, 2010, Diesel</td>\n",
       "      <td>2010 - 80,000 km</td>\n",
       "      <td>POWAI, MUMBAI</td>\n",
       "      <td>₹ 6,99,999</td>\n",
       "    </tr>\n",
       "    <tr>\n",
       "      <th>7</th>\n",
       "      <td>Well Maintained Tough Build Sedan, with best i...</td>\n",
       "      <td>2012 - 114,000 km</td>\n",
       "      <td>INDUSTRIAL AREA, CHANDIGARH</td>\n",
       "      <td>₹ 2,00,000</td>\n",
       "    </tr>\n",
       "    <tr>\n",
       "      <th>8</th>\n",
       "      <td>BMW 5 Series 523i Sedan, 2008, Petrol</td>\n",
       "      <td>2008 - 52,000 km</td>\n",
       "      <td>RAJ NAGAR EXTENSION, GHAZIABAD</td>\n",
       "      <td>₹ 5,50,000</td>\n",
       "    </tr>\n",
       "    <tr>\n",
       "      <th>9</th>\n",
       "      <td>BMW 7 Series 740Li Sedan, 2011, Petrol</td>\n",
       "      <td>2011 - 60,000 km</td>\n",
       "      <td>RAJOURI GARDEN, DELHI</td>\n",
       "      <td>₹ 14,75,000</td>\n",
       "    </tr>\n",
       "    <tr>\n",
       "      <th>10</th>\n",
       "      <td>BMW 7 Series 730Ld Sedan, 2011, Diesel</td>\n",
       "      <td>2011 - 70,000 km</td>\n",
       "      <td>GREATER KAILASH, DELHI</td>\n",
       "      <td>₹ 14,75,000</td>\n",
       "    </tr>\n",
       "    <tr>\n",
       "      <th>11</th>\n",
       "      <td>BMW 3 Series 320i Sedan, 2010, Petrol</td>\n",
       "      <td>2010 - 50,000 km</td>\n",
       "      <td>DHAULA KUAN, DELHI</td>\n",
       "      <td>₹ 8,25,000</td>\n",
       "    </tr>\n",
       "    <tr>\n",
       "      <th>12</th>\n",
       "      <td>BMW 5 Series 2010-2013 520d Sedan, 2012, Diesel</td>\n",
       "      <td>2012 - 90,000 km</td>\n",
       "      <td>KHARGHAR, NAVI MUMBAI</td>\n",
       "      <td>₹ 16,00,000</td>\n",
       "    </tr>\n",
       "    <tr>\n",
       "      <th>13</th>\n",
       "      <td>BMW 3 Series 320d Sedan, 2010, Diesel</td>\n",
       "      <td>2010 - 90,000 km</td>\n",
       "      <td>VIJAY NAGAR, INDORE</td>\n",
       "      <td>₹ 6,00,000</td>\n",
       "    </tr>\n",
       "    <tr>\n",
       "      <th>14</th>\n",
       "      <td>BMW 5 Series 2010-2013 520d Sedan, 2011, Diesel</td>\n",
       "      <td>2011 - 88,000 km</td>\n",
       "      <td>PARKESH NAGAR, LUDHIANA</td>\n",
       "      <td>₹ 13,50,000</td>\n",
       "    </tr>\n",
       "    <tr>\n",
       "      <th>15</th>\n",
       "      <td>BMW 5 Series 520d Sedan, 2014, Diesel</td>\n",
       "      <td>2014 - 75,382 km</td>\n",
       "      <td>ADAJAN, SURAT</td>\n",
       "      <td>₹ 19,99,999</td>\n",
       "    </tr>\n",
       "    <tr>\n",
       "      <th>16</th>\n",
       "      <td>Maruti Suzuki Baleno 1.6 sedan 2006 Petrol Goo...</td>\n",
       "      <td>2006 - 71,000 km</td>\n",
       "      <td>JANGPURA, DELHI</td>\n",
       "      <td>₹ 2,75,000</td>\n",
       "    </tr>\n",
       "    <tr>\n",
       "      <th>17</th>\n",
       "      <td>BMW 5 Series 530d Highline Sedan, 2012, Diesel</td>\n",
       "      <td>2012 - 75,000 km</td>\n",
       "      <td>NAGAMPADAM, KOTTAYAM</td>\n",
       "      <td>₹ 14,50,000</td>\n",
       "    </tr>\n",
       "    <tr>\n",
       "      <th>18</th>\n",
       "      <td>BMW 7 Series 740Li Sedan, 2011, Petrol</td>\n",
       "      <td>2011 - 75,000 km</td>\n",
       "      <td>SAROJINI NAGAR, DELHI</td>\n",
       "      <td>₹ 16,50,000</td>\n",
       "    </tr>\n",
       "  </tbody>\n",
       "</table>\n",
       "</div>"
      ],
      "text/plain": [
       "                                           model_list       year_km_list  \\\n",
       "0    BMW 520D SEDAN BRAND NEW CONDITION WITH NEW TYRE  2012 - 35000.0 km   \n",
       "1               BMW 3 Series 320d Sedan, 2012, Diesel   2016 - 26,000 km   \n",
       "2              BMW 7 Series 730Ld Sedan, 2013, Diesel   2010 - 69,000 km   \n",
       "3   AUDI A4 S-line 2.0 TDi SUNROOF Diesel AT Top M...   2010 - 97,000 km   \n",
       "4   April 2019 Ford Figo Aspire Diesel Sedan Good ...   2019 - 55,000 km   \n",
       "5               BMW 3 Series 320i Sedan, 2011, Petrol    2011 - 9,500 km   \n",
       "6      BMW 5 Series 530d Highline Sedan, 2010, Diesel   2010 - 80,000 km   \n",
       "7   Well Maintained Tough Build Sedan, with best i...  2012 - 114,000 km   \n",
       "8               BMW 5 Series 523i Sedan, 2008, Petrol   2008 - 52,000 km   \n",
       "9              BMW 7 Series 740Li Sedan, 2011, Petrol   2011 - 60,000 km   \n",
       "10             BMW 7 Series 730Ld Sedan, 2011, Diesel   2011 - 70,000 km   \n",
       "11              BMW 3 Series 320i Sedan, 2010, Petrol   2010 - 50,000 km   \n",
       "12    BMW 5 Series 2010-2013 520d Sedan, 2012, Diesel   2012 - 90,000 km   \n",
       "13              BMW 3 Series 320d Sedan, 2010, Diesel   2010 - 90,000 km   \n",
       "14    BMW 5 Series 2010-2013 520d Sedan, 2011, Diesel   2011 - 88,000 km   \n",
       "15              BMW 5 Series 520d Sedan, 2014, Diesel   2014 - 75,382 km   \n",
       "16  Maruti Suzuki Baleno 1.6 sedan 2006 Petrol Goo...   2006 - 71,000 km   \n",
       "17     BMW 5 Series 530d Highline Sedan, 2012, Diesel   2012 - 75,000 km   \n",
       "18             BMW 7 Series 740Li Sedan, 2011, Petrol   2011 - 75,000 km   \n",
       "\n",
       "                     location_list   price_list  \n",
       "0              KATTOOR, COIMBATORE  ₹ 10,99,999  \n",
       "1                   NARAINA, DELHI   ₹ 6,50,000  \n",
       "2          MAHADEV VIHAR, DEHRADUN  ₹ 24,50,000  \n",
       "3            VAISHALI NAGAR, AJMER   ₹ 5,79,000  \n",
       "4          CHAUDHARI TOLA, LUCKNOW   ₹ 7,00,000  \n",
       "5       BAKKANNAPALEM, MADHURAWADA   ₹ 9,75,000  \n",
       "6                    POWAI, MUMBAI   ₹ 6,99,999  \n",
       "7      INDUSTRIAL AREA, CHANDIGARH   ₹ 2,00,000  \n",
       "8   RAJ NAGAR EXTENSION, GHAZIABAD   ₹ 5,50,000  \n",
       "9            RAJOURI GARDEN, DELHI  ₹ 14,75,000  \n",
       "10          GREATER KAILASH, DELHI  ₹ 14,75,000  \n",
       "11              DHAULA KUAN, DELHI   ₹ 8,25,000  \n",
       "12           KHARGHAR, NAVI MUMBAI  ₹ 16,00,000  \n",
       "13             VIJAY NAGAR, INDORE   ₹ 6,00,000  \n",
       "14         PARKESH NAGAR, LUDHIANA  ₹ 13,50,000  \n",
       "15                   ADAJAN, SURAT  ₹ 19,99,999  \n",
       "16                 JANGPURA, DELHI   ₹ 2,75,000  \n",
       "17            NAGAMPADAM, KOTTAYAM  ₹ 14,50,000  \n",
       "18           SAROJINI NAGAR, DELHI  ₹ 16,50,000  "
      ]
     },
     "execution_count": 156,
     "metadata": {},
     "output_type": "execute_result"
    }
   ],
   "source": [
    "# Make data frame\n",
    "used_cars = pd.DataFrame({})\n",
    "used_cars['model_list']=model_list\n",
    "used_cars['year_km_list']=year_km_list\n",
    "used_cars['location_list']=location_list[0:19]\n",
    "used_cars['price_list']=price_list\n",
    "used_cars"
   ]
  },
  {
   "cell_type": "code",
   "execution_count": 251,
   "id": "ad64d0c8",
   "metadata": {},
   "outputs": [
    {
     "data": {
      "text/plain": [
       "<selenium.webdriver.chrome.webdriver.WebDriver (session=\"85c0df1a9bb2362a3dea82da82d3b300\")>"
      ]
     },
     "execution_count": 251,
     "metadata": {},
     "output_type": "execute_result"
    }
   ],
   "source": [
    "# connect first with webdriver\n",
    "driver = webdriver.Chrome(r\"C:\\Users\\admin\\Desktop\\Python basis\\chromedriver.exe\")\n",
    "driver"
   ]
  },
  {
   "cell_type": "code",
   "execution_count": 252,
   "id": "a5ac8cc2",
   "metadata": {},
   "outputs": [
    {
     "name": "stdout",
     "output_type": "stream",
     "text": [
      "Enter the product you want to search : used SUV car\n"
     ]
    }
   ],
   "source": [
    "#Opening the url\n",
    "url='https://www.olx.in/'\n",
    "driver.get(url)\n",
    "\n",
    "\n",
    "# Asking the user to input the keywords he/she wants to search\n",
    "user_inp = input('Enter the product you want to search : ')\n"
   ]
  },
  {
   "cell_type": "code",
   "execution_count": 253,
   "id": "182c1268",
   "metadata": {},
   "outputs": [],
   "source": [
    "search_bar = driver.find_element_by_xpath('//div[@class=\"zYZEU\"]//input')    # Locating search_bar by xpath\n",
    "search_bar.clear()                                               # clearing search_bar\n",
    "search_bar.send_keys(user_inp)                                   # sending user input to search bar\n",
    "search_button = driver.find_element_by_xpath('//div[@class=\"_3b3oR\"]')       # Locating search_button by xpath\n",
    "search_button.click()"
   ]
  },
  {
   "cell_type": "code",
   "execution_count": null,
   "id": "8b6273c2",
   "metadata": {},
   "outputs": [],
   "source": [
    "# scrape all product urls\n",
    "urls=[]\n",
    "for i in range(0,1):#for loop for scrapping 1 page\n",
    "    for j in driver.find_elements_by_xpath('//li[@class=\"EIR5N\"]//a'):\n",
    "        urls.append(j.get_attribute('href'))"
   ]
  },
  {
   "cell_type": "code",
   "execution_count": 292,
   "id": "c5008693",
   "metadata": {},
   "outputs": [
    {
     "data": {
      "text/plain": [
       "['https://www.olx.in/item/toyota-fortuner-2012-diesel-well-maintained-suv-car-like-2016-model-iid-1660744575',\n",
       " 'https://www.olx.in/item/hummer-h2-suv-2008-petrol-iid-1660319782',\n",
       " 'https://www.olx.in/item/alloy-wheels-for-all-cars-suv-price-starting-from-21000-4-iid-1524613407',\n",
       " 'https://www.olx.in/item/honda-city-2011-cng-hybrids-iid-1659625682',\n",
       " 'https://www.olx.in/item/lexus-lx-470-suv-2001-diesel-iid-1658344754',\n",
       " 'https://www.olx.in/item/chevrolet-captiva-2011-diesel-well-maintained-real-suv-7-seater-iid-1662036678',\n",
       " 'https://www.olx.in/item/force-one-suv-diesel-iid-1657845240',\n",
       " 'https://www.olx.in/item/best-condition-brezza-2017-top-model-1st-owner-diesel-suv-iid-1661977339',\n",
       " 'https://www.olx.in/item/i-want-to-buy-suv-model-iid-1661971553',\n",
       " 'https://www.olx.in/item/suv-sedan-car-cout-me-lagni-hai-iid-1661963786',\n",
       " 'https://www.olx.in/item/car-or-suv-driver-iid-1661949202',\n",
       " 'https://www.olx.in/item/hummer-h3-suv-2007-petrol-iid-1637745211',\n",
       " 'https://www.olx.in/item/suv-rent-car-booking-for-city-and-out-station-iid-1661924729',\n",
       " 'https://www.olx.in/item/best-diesel-suv-2017-xuv500-manual-sunroof-1stownr-less-run-newlike-iid-1661908299',\n",
       " 'https://www.olx.in/item/best-suv-2018-diesel-manual-toyota-innova-crysta-vx-8-str-56456-kms-iid-1661904025',\n",
       " 'https://www.olx.in/item/mahendra-suv-500-iid-1661901877',\n",
       " 'https://www.olx.in/item/it-is-a-suv-very-well-maintained-cwr-iid-1661799509',\n",
       " 'https://www.olx.in/item/car-fender-mirror-for-suv-iid-1658060474',\n",
       " 'https://www.olx.in/item/kuv-100-top-end-diesel-mini-suv-25kms-mileage-iid-1661764920',\n",
       " 'https://www.olx.in/item/tata-nexon-xz-petrol-2019-suv-iid-1657615481']"
      ]
     },
     "execution_count": 292,
     "metadata": {},
     "output_type": "execute_result"
    }
   ],
   "source": [
    "urls"
   ]
  },
  {
   "cell_type": "code",
   "execution_count": 293,
   "id": "58ff3583",
   "metadata": {},
   "outputs": [
    {
     "data": {
      "text/plain": [
       "19"
      ]
     },
     "execution_count": 293,
     "metadata": {},
     "output_type": "execute_result"
    }
   ],
   "source": [
    "len(url)"
   ]
  },
  {
   "cell_type": "code",
   "execution_count": 257,
   "id": "64ca8662",
   "metadata": {},
   "outputs": [],
   "source": [
    "# finding required details\n",
    "model_list = [] #empty list\n",
    "year_km_list = [] #empty list\n",
    "location_list = [] #empty list\n",
    "price_list = [] #empty list"
   ]
  },
  {
   "cell_type": "code",
   "execution_count": 258,
   "id": "e5da0ed3",
   "metadata": {},
   "outputs": [
    {
     "data": {
      "text/plain": [
       "['₹ 13,00,000',\n",
       " '₹ 70,00,000',\n",
       " '₹ 21,000',\n",
       " '₹ 3,50,000',\n",
       " '₹ 25,00,000',\n",
       " '₹ 4,30,000',\n",
       " '₹ 3,75,000',\n",
       " '₹ 8,00,000',\n",
       " '₹ 1,30,000',\n",
       " '₹ 75,00,000',\n",
       " '₹ 10,59,000',\n",
       " '₹ 16,59,000',\n",
       " '₹ 7,50,000',\n",
       " '₹ 4,50,000',\n",
       " '₹ 999',\n",
       " '₹ 5,20,000',\n",
       " '₹ 6,99,999']"
      ]
     },
     "execution_count": 258,
     "metadata": {},
     "output_type": "execute_result"
    }
   ],
   "source": [
    "# extract all tags having the price_list\n",
    "price_tags = driver.find_elements_by_xpath('//div[@class=\"_89yzn\"]')\n",
    "\n",
    "for i in price_tags:\n",
    "    price_list.append(i.text)\n",
    "price_list\n",
    "    \n",
    "    "
   ]
  },
  {
   "cell_type": "code",
   "execution_count": 285,
   "id": "787b2104",
   "metadata": {},
   "outputs": [
    {
     "data": {
      "text/plain": [
       "15"
      ]
     },
     "execution_count": 285,
     "metadata": {},
     "output_type": "execute_result"
    }
   ],
   "source": [
    "len(price_list[0:15])"
   ]
  },
  {
   "cell_type": "code",
   "execution_count": 260,
   "id": "a5ed9ffc",
   "metadata": {},
   "outputs": [
    {
     "data": {
      "text/plain": [
       "['Toyota Fortuner 2012 Diesel Well Maintained Suv car like 2016 model',\n",
       " 'Hummer H2 SUV, 2008, Petrol',\n",
       " 'ALLOY WHEELS FOR ALL CARS & SUV ,PRICE STARTING FROM 21000 /4',\n",
       " 'Honda City 2011 CNG & Hybrids',\n",
       " 'Lexus LX 470 SUV, 2001, Diesel',\n",
       " 'Chevrolet Captiva 2011 Diesel Well Maintained REAL SUV ,7 seater',\n",
       " 'Force One Suv diesel',\n",
       " 'Best condition brezza 2017 top + model 1st owner diesel SUV',\n",
       " 'I want to buy SUV model',\n",
       " 'Hummer H3 SUV, 2007, Petrol',\n",
       " 'Best DIESEL SUV ! 2017 XUV500 MANUAL SUNROOF 1stOwnr Less Run NEWLIKE',\n",
       " 'BeST SUV ! 2018 DIESEL Manual TOYOTA INNOVA CRYSTA VX 8 Str 56456 kms',\n",
       " 'Mahendra suv 500',\n",
       " 'It is a SUV very well maintained cwr',\n",
       " 'Car fender mirror for SUV',\n",
       " 'KUV 100 Top end diesel mini suv 25kms mileage',\n",
       " 'Tata Nexon XZ+ Petrol 2019 SUV']"
      ]
     },
     "execution_count": 260,
     "metadata": {},
     "output_type": "execute_result"
    }
   ],
   "source": [
    "#extract all tags having model_list\n",
    "model_tags = driver.find_elements_by_xpath('//span[@class=\"_2tW1I\"]')\n",
    "\n",
    "for i in model_tags:\n",
    "    model_list.append(i.text)\n",
    "model_list\n",
    "    "
   ]
  },
  {
   "cell_type": "code",
   "execution_count": 284,
   "id": "913cbfa5",
   "metadata": {},
   "outputs": [
    {
     "data": {
      "text/plain": [
       "15"
      ]
     },
     "execution_count": 284,
     "metadata": {},
     "output_type": "execute_result"
    }
   ],
   "source": [
    "len(model_list[0:15])"
   ]
  },
  {
   "cell_type": "code",
   "execution_count": 273,
   "id": "9790ad0b",
   "metadata": {},
   "outputs": [
    {
     "data": {
      "text/plain": [
       "['RAI KA BAGH, JODHPUR',\n",
       " 'VETTU ROAD, THIRUVANANTHAPURAM',\n",
       " 'CHERANALLOR, KOCHI',\n",
       " 'SOVI GREEN PARK COLONY, RUDRAPUR',\n",
       " 'KANDIVALI WEST, MUMBAI',\n",
       " 'BK KAUL NAGAR, AJMER',\n",
       " 'PATTOM, THIRUVANANTHAPURAM',\n",
       " 'BALCO NAGAR, KORBA',\n",
       " 'BAHARAMPORE, WEST BENGAL',\n",
       " 'CHAUDHARI TOLA, LUCKNOW',\n",
       " 'GOPALPATTI, PUNE',\n",
       " 'MADHAPUR, HYDERABAD',\n",
       " 'GOMTI NAGAR, LUCKNOW',\n",
       " 'BANDRA WEST, MUMBAI',\n",
       " 'BANDRA WEST, MUMBAI',\n",
       " 'KULKOD, HONAVAR',\n",
       " 'NEW GARDEN COLONY, AMRITSAR',\n",
       " 'APMC AREA, BENGALURU',\n",
       " 'THERGAON, PUNE',\n",
       " 'RAJARHAT, KOLKATA']"
      ]
     },
     "execution_count": 273,
     "metadata": {},
     "output_type": "execute_result"
    }
   ],
   "source": [
    "#extracting all tag haing location_list\n",
    "location_tags = driver.find_elements_by_xpath('//span[@class=\"tjgMj\"]')\n",
    "for i in location_tags:\n",
    "    location_list.append(i.text)\n",
    "location_list\n",
    "    "
   ]
  },
  {
   "cell_type": "code",
   "execution_count": 283,
   "id": "5bfaf781",
   "metadata": {},
   "outputs": [
    {
     "data": {
      "text/plain": [
       "15"
      ]
     },
     "execution_count": 283,
     "metadata": {},
     "output_type": "execute_result"
    }
   ],
   "source": [
    "len(location_list[0:15])"
   ]
  },
  {
   "cell_type": "code",
   "execution_count": 280,
   "id": "eca0fed5",
   "metadata": {},
   "outputs": [
    {
     "data": {
      "text/plain": [
       "['2012 - 185,000 km',\n",
       " '2008 - 40,000 km',\n",
       " '2011 - 90,000 km',\n",
       " '2001 - 151,000 km',\n",
       " '2011 - 115,000 km',\n",
       " '2012 - 75,215 km',\n",
       " '2017 - 78,000 km',\n",
       " '2005 - 28,281 km',\n",
       " '2007 - 58,000 km',\n",
       " '2017 - 66,456 km',\n",
       " '2018 - 56,346 km',\n",
       " '2015 - 150,000 km',\n",
       " '2013 - 72,000 km',\n",
       " '2016 - 42,000 km',\n",
       " '2019 - 55,000 km',\n",
       " '2012 - 185,000 km',\n",
       " '2008 - 40,000 km',\n",
       " 'ALLOY WHEELS FOR ALL CARS & SUV ,PRICE STARTING FROM 21000 /4',\n",
       " '2011 - 90,000 km',\n",
       " '2001 - 151,000 km',\n",
       " '2011 - 115,000 km',\n",
       " '2012 - 75,215 km',\n",
       " '2017 - 78,000 km',\n",
       " '2005 - 28,281 km',\n",
       " '2007 - 58,000 km',\n",
       " '2017 - 66,456 km',\n",
       " '2018 - 56,346 km',\n",
       " '2015 - 150,000 km',\n",
       " '2013 - 72,000 km',\n",
       " 'Car fender mirror for SUV',\n",
       " '2016 - 42,000 km',\n",
       " '2019 - 55,000 km',\n",
       " '2012 - 185,000 km',\n",
       " '2008 - 40,000 km',\n",
       " '2011 - 90,000 km',\n",
       " '2001 - 151,000 km',\n",
       " '2011 - 115,000 km',\n",
       " '2012 - 75,215 km',\n",
       " '2017 - 78,000 km',\n",
       " '2005 - 28,281 km',\n",
       " '2007 - 58,000 km',\n",
       " '2017 - 66,456 km',\n",
       " '2018 - 56,346 km',\n",
       " '2015 - 150,000 km',\n",
       " '2013 - 72,000 km',\n",
       " '2016 - 42,000 km',\n",
       " '2019 - 55,000 km',\n",
       " '2012 - 185,000 km',\n",
       " '2008 - 40,000 km',\n",
       " '2011 - 90,000 km',\n",
       " '2001 - 151,000 km',\n",
       " '2011 - 115,000 km',\n",
       " '2012 - 75,215 km',\n",
       " '2017 - 78,000 km',\n",
       " '2005 - 28,281 km',\n",
       " '2007 - 58,000 km',\n",
       " '2017 - 66,456 km',\n",
       " '2018 - 56,346 km',\n",
       " '2015 - 150,000 km',\n",
       " '2013 - 72,000 km',\n",
       " '2016 - 42,000 km',\n",
       " '2019 - 55,000 km',\n",
       " '2012 - 185,000 km',\n",
       " '2008 - 40,000 km',\n",
       " '2011 - 90,000 km',\n",
       " '2001 - 151,000 km',\n",
       " '2011 - 115,000 km',\n",
       " '2012 - 75,215 km',\n",
       " '2017 - 78,000 km',\n",
       " '2005 - 28,281 km',\n",
       " '2007 - 58,000 km',\n",
       " '2017 - 66,456 km',\n",
       " '2018 - 56,346 km',\n",
       " '2015 - 150,000 km',\n",
       " '2013 - 72,000 km',\n",
       " '2016 - 42,000 km',\n",
       " '2019 - 55,000 km']"
      ]
     },
     "execution_count": 280,
     "metadata": {},
     "output_type": "execute_result"
    }
   ],
   "source": [
    "#extarct all tags having year_km_list\n",
    "km_tags = driver.find_elements_by_xpath('//span[@class=\"_2TVI3\"]')\n",
    "\n",
    "for i in km_tags:\n",
    "    year_km_list.append(i.text)\n",
    "year_km_list\n",
    "    "
   ]
  },
  {
   "cell_type": "code",
   "execution_count": 282,
   "id": "0d380124",
   "metadata": {},
   "outputs": [
    {
     "data": {
      "text/plain": [
       "15"
      ]
     },
     "execution_count": 282,
     "metadata": {},
     "output_type": "execute_result"
    }
   ],
   "source": [
    "len(year_km_list[0:15])"
   ]
  },
  {
   "cell_type": "code",
   "execution_count": 287,
   "id": "833019c2",
   "metadata": {},
   "outputs": [
    {
     "data": {
      "text/html": [
       "<div>\n",
       "<style scoped>\n",
       "    .dataframe tbody tr th:only-of-type {\n",
       "        vertical-align: middle;\n",
       "    }\n",
       "\n",
       "    .dataframe tbody tr th {\n",
       "        vertical-align: top;\n",
       "    }\n",
       "\n",
       "    .dataframe thead th {\n",
       "        text-align: right;\n",
       "    }\n",
       "</style>\n",
       "<table border=\"1\" class=\"dataframe\">\n",
       "  <thead>\n",
       "    <tr style=\"text-align: right;\">\n",
       "      <th></th>\n",
       "      <th>model_list</th>\n",
       "      <th>year_km_list</th>\n",
       "      <th>location_list</th>\n",
       "      <th>price_list</th>\n",
       "    </tr>\n",
       "  </thead>\n",
       "  <tbody>\n",
       "    <tr>\n",
       "      <th>0</th>\n",
       "      <td>Toyota Fortuner 2012 Diesel Well Maintained Su...</td>\n",
       "      <td>2012 - 185,000 km</td>\n",
       "      <td>RAI KA BAGH, JODHPUR</td>\n",
       "      <td>₹ 13,00,000</td>\n",
       "    </tr>\n",
       "    <tr>\n",
       "      <th>1</th>\n",
       "      <td>Hummer H2 SUV, 2008, Petrol</td>\n",
       "      <td>2008 - 40,000 km</td>\n",
       "      <td>VETTU ROAD, THIRUVANANTHAPURAM</td>\n",
       "      <td>₹ 70,00,000</td>\n",
       "    </tr>\n",
       "    <tr>\n",
       "      <th>2</th>\n",
       "      <td>ALLOY WHEELS FOR ALL CARS &amp; SUV ,PRICE STARTIN...</td>\n",
       "      <td>2011 - 90,000 km</td>\n",
       "      <td>CHERANALLOR, KOCHI</td>\n",
       "      <td>₹ 21,000</td>\n",
       "    </tr>\n",
       "    <tr>\n",
       "      <th>3</th>\n",
       "      <td>Honda City 2011 CNG &amp; Hybrids</td>\n",
       "      <td>2001 - 151,000 km</td>\n",
       "      <td>SOVI GREEN PARK COLONY, RUDRAPUR</td>\n",
       "      <td>₹ 3,50,000</td>\n",
       "    </tr>\n",
       "    <tr>\n",
       "      <th>4</th>\n",
       "      <td>Lexus LX 470 SUV, 2001, Diesel</td>\n",
       "      <td>2011 - 115,000 km</td>\n",
       "      <td>KANDIVALI WEST, MUMBAI</td>\n",
       "      <td>₹ 25,00,000</td>\n",
       "    </tr>\n",
       "    <tr>\n",
       "      <th>5</th>\n",
       "      <td>Chevrolet Captiva 2011 Diesel Well Maintained ...</td>\n",
       "      <td>2012 - 75,215 km</td>\n",
       "      <td>BK KAUL NAGAR, AJMER</td>\n",
       "      <td>₹ 4,30,000</td>\n",
       "    </tr>\n",
       "    <tr>\n",
       "      <th>6</th>\n",
       "      <td>Force One Suv diesel</td>\n",
       "      <td>2017 - 78,000 km</td>\n",
       "      <td>PATTOM, THIRUVANANTHAPURAM</td>\n",
       "      <td>₹ 3,75,000</td>\n",
       "    </tr>\n",
       "    <tr>\n",
       "      <th>7</th>\n",
       "      <td>Best condition brezza 2017 top + model 1st own...</td>\n",
       "      <td>2005 - 28,281 km</td>\n",
       "      <td>BALCO NAGAR, KORBA</td>\n",
       "      <td>₹ 8,00,000</td>\n",
       "    </tr>\n",
       "    <tr>\n",
       "      <th>8</th>\n",
       "      <td>I want to buy SUV model</td>\n",
       "      <td>2007 - 58,000 km</td>\n",
       "      <td>BAHARAMPORE, WEST BENGAL</td>\n",
       "      <td>₹ 1,30,000</td>\n",
       "    </tr>\n",
       "    <tr>\n",
       "      <th>9</th>\n",
       "      <td>Hummer H3 SUV, 2007, Petrol</td>\n",
       "      <td>2017 - 66,456 km</td>\n",
       "      <td>CHAUDHARI TOLA, LUCKNOW</td>\n",
       "      <td>₹ 75,00,000</td>\n",
       "    </tr>\n",
       "    <tr>\n",
       "      <th>10</th>\n",
       "      <td>Best DIESEL SUV ! 2017 XUV500 MANUAL SUNROOF 1...</td>\n",
       "      <td>2018 - 56,346 km</td>\n",
       "      <td>GOPALPATTI, PUNE</td>\n",
       "      <td>₹ 10,59,000</td>\n",
       "    </tr>\n",
       "    <tr>\n",
       "      <th>11</th>\n",
       "      <td>BeST SUV ! 2018 DIESEL Manual TOYOTA INNOVA CR...</td>\n",
       "      <td>2015 - 150,000 km</td>\n",
       "      <td>MADHAPUR, HYDERABAD</td>\n",
       "      <td>₹ 16,59,000</td>\n",
       "    </tr>\n",
       "    <tr>\n",
       "      <th>12</th>\n",
       "      <td>Mahendra suv 500</td>\n",
       "      <td>2013 - 72,000 km</td>\n",
       "      <td>GOMTI NAGAR, LUCKNOW</td>\n",
       "      <td>₹ 7,50,000</td>\n",
       "    </tr>\n",
       "    <tr>\n",
       "      <th>13</th>\n",
       "      <td>It is a SUV very well maintained cwr</td>\n",
       "      <td>2016 - 42,000 km</td>\n",
       "      <td>BANDRA WEST, MUMBAI</td>\n",
       "      <td>₹ 4,50,000</td>\n",
       "    </tr>\n",
       "    <tr>\n",
       "      <th>14</th>\n",
       "      <td>Car fender mirror for SUV</td>\n",
       "      <td>2019 - 55,000 km</td>\n",
       "      <td>BANDRA WEST, MUMBAI</td>\n",
       "      <td>₹ 999</td>\n",
       "    </tr>\n",
       "  </tbody>\n",
       "</table>\n",
       "</div>"
      ],
      "text/plain": [
       "                                           model_list       year_km_list  \\\n",
       "0   Toyota Fortuner 2012 Diesel Well Maintained Su...  2012 - 185,000 km   \n",
       "1                         Hummer H2 SUV, 2008, Petrol   2008 - 40,000 km   \n",
       "2   ALLOY WHEELS FOR ALL CARS & SUV ,PRICE STARTIN...   2011 - 90,000 km   \n",
       "3                       Honda City 2011 CNG & Hybrids  2001 - 151,000 km   \n",
       "4                      Lexus LX 470 SUV, 2001, Diesel  2011 - 115,000 km   \n",
       "5   Chevrolet Captiva 2011 Diesel Well Maintained ...   2012 - 75,215 km   \n",
       "6                                Force One Suv diesel   2017 - 78,000 km   \n",
       "7   Best condition brezza 2017 top + model 1st own...   2005 - 28,281 km   \n",
       "8                             I want to buy SUV model   2007 - 58,000 km   \n",
       "9                         Hummer H3 SUV, 2007, Petrol   2017 - 66,456 km   \n",
       "10  Best DIESEL SUV ! 2017 XUV500 MANUAL SUNROOF 1...   2018 - 56,346 km   \n",
       "11  BeST SUV ! 2018 DIESEL Manual TOYOTA INNOVA CR...  2015 - 150,000 km   \n",
       "12                                   Mahendra suv 500   2013 - 72,000 km   \n",
       "13               It is a SUV very well maintained cwr   2016 - 42,000 km   \n",
       "14                          Car fender mirror for SUV   2019 - 55,000 km   \n",
       "\n",
       "                       location_list   price_list  \n",
       "0               RAI KA BAGH, JODHPUR  ₹ 13,00,000  \n",
       "1     VETTU ROAD, THIRUVANANTHAPURAM  ₹ 70,00,000  \n",
       "2                 CHERANALLOR, KOCHI     ₹ 21,000  \n",
       "3   SOVI GREEN PARK COLONY, RUDRAPUR   ₹ 3,50,000  \n",
       "4             KANDIVALI WEST, MUMBAI  ₹ 25,00,000  \n",
       "5               BK KAUL NAGAR, AJMER   ₹ 4,30,000  \n",
       "6         PATTOM, THIRUVANANTHAPURAM   ₹ 3,75,000  \n",
       "7                 BALCO NAGAR, KORBA   ₹ 8,00,000  \n",
       "8           BAHARAMPORE, WEST BENGAL   ₹ 1,30,000  \n",
       "9            CHAUDHARI TOLA, LUCKNOW  ₹ 75,00,000  \n",
       "10                  GOPALPATTI, PUNE  ₹ 10,59,000  \n",
       "11               MADHAPUR, HYDERABAD  ₹ 16,59,000  \n",
       "12              GOMTI NAGAR, LUCKNOW   ₹ 7,50,000  \n",
       "13               BANDRA WEST, MUMBAI   ₹ 4,50,000  \n",
       "14               BANDRA WEST, MUMBAI        ₹ 999  "
      ]
     },
     "execution_count": 287,
     "metadata": {},
     "output_type": "execute_result"
    }
   ],
   "source": [
    "#Make dataframe\n",
    "# Make data frame\n",
    "used_cars = pd.DataFrame({})\n",
    "used_cars['model_list']=model_list[0:15]\n",
    "used_cars['year_km_list']=year_km_list[0:15]\n",
    "used_cars['location_list']=location_list[0:19][0:15]\n",
    "used_cars['price_list']=price_list[0:15]\n",
    "used_cars"
   ]
  },
  {
   "cell_type": "code",
   "execution_count": 309,
   "id": "a53346c6",
   "metadata": {},
   "outputs": [
    {
     "name": "stdout",
     "output_type": "stream",
     "text": [
      "Enter the product you want to search : used minivan cars\n"
     ]
    }
   ],
   "source": [
    "#Opening the url\n",
    "driver = webdriver.Chrome(r\"C:\\Users\\admin\\Desktop\\Python basis\\chromedriver.exe\")\n",
    "url='https://www.olx.in/'\n",
    "driver.get(url)\n",
    "\n",
    "time.sleep(2)\n",
    "# Asking the user to input the keywords he/she wants to search\n",
    "user_inp = input('Enter the product you want to search : ')"
   ]
  },
  {
   "cell_type": "code",
   "execution_count": 310,
   "id": "52de1cda",
   "metadata": {},
   "outputs": [],
   "source": [
    "search_bar = driver.find_element_by_xpath('//div[@class=\"zYZEU\"]//input')    # Locating search_bar by xpath\n",
    "search_bar.clear()                                               # clearing search_bar\n",
    "search_bar.send_keys(user_inp)                                   # sending user input to search bar\n",
    "search_button = driver.find_element_by_xpath('//div[@class=\"_3b3oR\"]')       # Locating search_button by xpath\n",
    "search_button.click()"
   ]
  },
  {
   "cell_type": "code",
   "execution_count": 311,
   "id": "b3463cce",
   "metadata": {},
   "outputs": [],
   "source": [
    "# scrape all product urls\n",
    "urls=[]\n",
    "for i in range(0,1):#for loop for scrapping 1 page\n",
    "    for j in driver.find_elements_by_xpath('//li[@class=\"EIR5N\"]//a'):\n",
    "        urls.append(j.get_attribute('href'))"
   ]
  },
  {
   "cell_type": "code",
   "execution_count": 312,
   "id": "bc9d8f4e",
   "metadata": {},
   "outputs": [
    {
     "data": {
      "text/plain": [
       "['https://www.olx.in/item/minivan-auto-taxi--iid-1660234768',\n",
       " 'https://www.olx.in/item/maximo-minivan-iid-1659473126',\n",
       " 'https://www.olx.in/item/tata-ace-minivan-iid-1658656847',\n",
       " 'https://www.olx.in/item/mahindra-jeeto-minivan-iid-1658389022',\n",
       " 'https://www.olx.in/item/mahindra-supro-minivan-iid-1658117005',\n",
       " 'https://www.olx.in/item/maximo-minivan-vx-all-ok-good--iid-1657893687',\n",
       " 'https://www.olx.in/item/mahindra-maxximo-minivan-iid-1633505649']"
      ]
     },
     "execution_count": 312,
     "metadata": {},
     "output_type": "execute_result"
    }
   ],
   "source": [
    "urls"
   ]
  },
  {
   "cell_type": "code",
   "execution_count": 313,
   "id": "9b9f5ae9",
   "metadata": {},
   "outputs": [
    {
     "data": {
      "text/plain": [
       "7"
      ]
     },
     "execution_count": 313,
     "metadata": {},
     "output_type": "execute_result"
    }
   ],
   "source": [
    "len(urls)"
   ]
  },
  {
   "cell_type": "code",
   "execution_count": 314,
   "id": "b4c1ce23",
   "metadata": {},
   "outputs": [],
   "source": [
    "# finding required details\n",
    "model_list = [] #empty list\n",
    "year_km_list = [] #empty list\n",
    "location_list = [] #empty list\n",
    "price_list = [] #empty list"
   ]
  },
  {
   "cell_type": "code",
   "execution_count": 316,
   "id": "dbb91fea",
   "metadata": {},
   "outputs": [
    {
     "data": {
      "text/plain": [
       "['₹ 2,40,000',\n",
       " '₹ 1,50,000',\n",
       " '₹ 1,20,000',\n",
       " '₹ 2,95,000',\n",
       " '₹ 2,80,000',\n",
       " '₹ 2,95,000',\n",
       " '₹ 2,50,000']"
      ]
     },
     "execution_count": 316,
     "metadata": {},
     "output_type": "execute_result"
    }
   ],
   "source": [
    "# extract all tags having the price_list\n",
    "price_tags = driver.find_elements_by_xpath('//span[@class=\"_89yzn\"]')\n",
    "\n",
    "for i in price_tags:\n",
    "    price_list.append(i.text)\n",
    "price_list\n",
    "    \n",
    "    "
   ]
  },
  {
   "cell_type": "code",
   "execution_count": 317,
   "id": "56ac88d8",
   "metadata": {},
   "outputs": [
    {
     "data": {
      "text/plain": [
       "7"
      ]
     },
     "execution_count": 317,
     "metadata": {},
     "output_type": "execute_result"
    }
   ],
   "source": [
    "len(price_list)"
   ]
  },
  {
   "cell_type": "code",
   "execution_count": 318,
   "id": "df8e8655",
   "metadata": {},
   "outputs": [
    {
     "data": {
      "text/plain": [
       "['Minivan (auto taxi )',\n",
       " 'Maximo minivan',\n",
       " 'TATA ACE MINIVAN',\n",
       " 'Mahindra jeeto Minivan',\n",
       " 'Mahindra supro minivan',\n",
       " 'మహీంద్రా maximo minivan vx. All పెపర్స్ ok. Good కాండిషన్',\n",
       " 'Mahindra maxximo minivan']"
      ]
     },
     "execution_count": 318,
     "metadata": {},
     "output_type": "execute_result"
    }
   ],
   "source": [
    "#extract all tags having model_list\n",
    "model_tags = driver.find_elements_by_xpath('//span[@class=\"_2tW1I\"]')\n",
    "\n",
    "for i in model_tags:\n",
    "    model_list.append(i.text)\n",
    "model_list\n",
    "    "
   ]
  },
  {
   "cell_type": "code",
   "execution_count": 319,
   "id": "d8bb5bf6",
   "metadata": {},
   "outputs": [
    {
     "data": {
      "text/plain": [
       "7"
      ]
     },
     "execution_count": 319,
     "metadata": {},
     "output_type": "execute_result"
    }
   ],
   "source": [
    "len(model_list)"
   ]
  },
  {
   "cell_type": "code",
   "execution_count": 320,
   "id": "f208178c",
   "metadata": {},
   "outputs": [
    {
     "data": {
      "text/plain": [
       "['THILANNUR, KANNUR',\n",
       " 'NIMKHEDI, MALKAPUR BULDANA DISTRICT',\n",
       " 'JRS COLONY, RAYADURG',\n",
       " 'PERAMBA, PAYYANNUR',\n",
       " 'DALMIA NAGAR INDUSTRIAL AREA, DEHRI',\n",
       " 'ALKA PURI COLONY, KARIMNAGAR',\n",
       " 'PUDUPALLI THERUVU, PALAKKAD']"
      ]
     },
     "execution_count": 320,
     "metadata": {},
     "output_type": "execute_result"
    }
   ],
   "source": [
    "#extracting all tag haing location_list\n",
    "location_tags = driver.find_elements_by_xpath('//span[@class=\"tjgMj\"]')\n",
    "for i in location_tags:\n",
    "    location_list.append(i.text)\n",
    "location_list\n",
    "    "
   ]
  },
  {
   "cell_type": "code",
   "execution_count": 321,
   "id": "d9edf11b",
   "metadata": {},
   "outputs": [
    {
     "data": {
      "text/plain": [
       "7"
      ]
     },
     "execution_count": 321,
     "metadata": {},
     "output_type": "execute_result"
    }
   ],
   "source": [
    "len(location_list)"
   ]
  },
  {
   "cell_type": "code",
   "execution_count": 322,
   "id": "c2a0470e",
   "metadata": {},
   "outputs": [
    {
     "data": {
      "text/plain": [
       "['2018 - 66,560 km',\n",
       " '2012 - 20 km',\n",
       " '2012 - 130,000 km',\n",
       " '2018 - 70,000 km',\n",
       " '2019 - 82,213 km',\n",
       " '2011 - 10,000 km',\n",
       " '2014 - 57,000 km']"
      ]
     },
     "execution_count": 322,
     "metadata": {},
     "output_type": "execute_result"
    }
   ],
   "source": [
    "#extarct all tags having year_km_list\n",
    "km_tags = driver.find_elements_by_xpath('//span[@class=\"_2TVI3\"]')\n",
    "\n",
    "for i in km_tags:\n",
    "    year_km_list.append(i.text)\n",
    "year_km_list"
   ]
  },
  {
   "cell_type": "code",
   "execution_count": 323,
   "id": "cc2edb6f",
   "metadata": {},
   "outputs": [
    {
     "data": {
      "text/plain": [
       "7"
      ]
     },
     "execution_count": 323,
     "metadata": {},
     "output_type": "execute_result"
    }
   ],
   "source": [
    "len(year_km_list)"
   ]
  },
  {
   "cell_type": "code",
   "execution_count": 324,
   "id": "e89d37f8",
   "metadata": {},
   "outputs": [
    {
     "data": {
      "text/html": [
       "<div>\n",
       "<style scoped>\n",
       "    .dataframe tbody tr th:only-of-type {\n",
       "        vertical-align: middle;\n",
       "    }\n",
       "\n",
       "    .dataframe tbody tr th {\n",
       "        vertical-align: top;\n",
       "    }\n",
       "\n",
       "    .dataframe thead th {\n",
       "        text-align: right;\n",
       "    }\n",
       "</style>\n",
       "<table border=\"1\" class=\"dataframe\">\n",
       "  <thead>\n",
       "    <tr style=\"text-align: right;\">\n",
       "      <th></th>\n",
       "      <th>model_list</th>\n",
       "      <th>year_km_list</th>\n",
       "      <th>location_list</th>\n",
       "      <th>price_list</th>\n",
       "    </tr>\n",
       "  </thead>\n",
       "  <tbody>\n",
       "    <tr>\n",
       "      <th>0</th>\n",
       "      <td>Minivan (auto taxi )</td>\n",
       "      <td>2018 - 66,560 km</td>\n",
       "      <td>THILANNUR, KANNUR</td>\n",
       "      <td>₹ 2,40,000</td>\n",
       "    </tr>\n",
       "    <tr>\n",
       "      <th>1</th>\n",
       "      <td>Maximo minivan</td>\n",
       "      <td>2012 - 20 km</td>\n",
       "      <td>NIMKHEDI, MALKAPUR BULDANA DISTRICT</td>\n",
       "      <td>₹ 1,50,000</td>\n",
       "    </tr>\n",
       "    <tr>\n",
       "      <th>2</th>\n",
       "      <td>TATA ACE MINIVAN</td>\n",
       "      <td>2012 - 130,000 km</td>\n",
       "      <td>JRS COLONY, RAYADURG</td>\n",
       "      <td>₹ 1,20,000</td>\n",
       "    </tr>\n",
       "    <tr>\n",
       "      <th>3</th>\n",
       "      <td>Mahindra jeeto Minivan</td>\n",
       "      <td>2018 - 70,000 km</td>\n",
       "      <td>PERAMBA, PAYYANNUR</td>\n",
       "      <td>₹ 2,95,000</td>\n",
       "    </tr>\n",
       "    <tr>\n",
       "      <th>4</th>\n",
       "      <td>Mahindra supro minivan</td>\n",
       "      <td>2019 - 82,213 km</td>\n",
       "      <td>DALMIA NAGAR INDUSTRIAL AREA, DEHRI</td>\n",
       "      <td>₹ 2,80,000</td>\n",
       "    </tr>\n",
       "    <tr>\n",
       "      <th>5</th>\n",
       "      <td>మహీంద్రా maximo minivan vx. All పెపర్స్ ok. Go...</td>\n",
       "      <td>2011 - 10,000 km</td>\n",
       "      <td>ALKA PURI COLONY, KARIMNAGAR</td>\n",
       "      <td>₹ 2,95,000</td>\n",
       "    </tr>\n",
       "    <tr>\n",
       "      <th>6</th>\n",
       "      <td>Mahindra maxximo minivan</td>\n",
       "      <td>2014 - 57,000 km</td>\n",
       "      <td>PUDUPALLI THERUVU, PALAKKAD</td>\n",
       "      <td>₹ 2,50,000</td>\n",
       "    </tr>\n",
       "  </tbody>\n",
       "</table>\n",
       "</div>"
      ],
      "text/plain": [
       "                                          model_list       year_km_list  \\\n",
       "0                               Minivan (auto taxi )   2018 - 66,560 km   \n",
       "1                                     Maximo minivan       2012 - 20 km   \n",
       "2                                   TATA ACE MINIVAN  2012 - 130,000 km   \n",
       "3                             Mahindra jeeto Minivan   2018 - 70,000 km   \n",
       "4                             Mahindra supro minivan   2019 - 82,213 km   \n",
       "5  మహీంద్రా maximo minivan vx. All పెపర్స్ ok. Go...   2011 - 10,000 km   \n",
       "6                           Mahindra maxximo minivan   2014 - 57,000 km   \n",
       "\n",
       "                         location_list  price_list  \n",
       "0                    THILANNUR, KANNUR  ₹ 2,40,000  \n",
       "1  NIMKHEDI, MALKAPUR BULDANA DISTRICT  ₹ 1,50,000  \n",
       "2                 JRS COLONY, RAYADURG  ₹ 1,20,000  \n",
       "3                   PERAMBA, PAYYANNUR  ₹ 2,95,000  \n",
       "4  DALMIA NAGAR INDUSTRIAL AREA, DEHRI  ₹ 2,80,000  \n",
       "5         ALKA PURI COLONY, KARIMNAGAR  ₹ 2,95,000  \n",
       "6          PUDUPALLI THERUVU, PALAKKAD  ₹ 2,50,000  "
      ]
     },
     "execution_count": 324,
     "metadata": {},
     "output_type": "execute_result"
    }
   ],
   "source": [
    "#Make dataframe\n",
    "# Make data frame\n",
    "used_cars = pd.DataFrame({})\n",
    "used_cars['model_list']=model_list\n",
    "used_cars['year_km_list']=year_km_list\n",
    "used_cars['location_list']=location_list\n",
    "used_cars['price_list']=price_list\n",
    "used_cars"
   ]
  },
  {
   "cell_type": "code",
   "execution_count": 325,
   "id": "7ccfd1c6",
   "metadata": {},
   "outputs": [
    {
     "name": "stdout",
     "output_type": "stream",
     "text": [
      "Enter the product you want to search : used coupe cars\n"
     ]
    }
   ],
   "source": [
    "#Opening the url\n",
    "driver = webdriver.Chrome(r\"C:\\Users\\admin\\Desktop\\Python basis\\chromedriver.exe\")\n",
    "url='https://www.olx.in/'\n",
    "driver.get(url)\n",
    "\n",
    "time.sleep(2)\n",
    "# Asking the user to input the keywords he/she wants to search\n",
    "user_inp = input('Enter the product you want to search : ')"
   ]
  },
  {
   "cell_type": "code",
   "execution_count": 326,
   "id": "6d2094d8",
   "metadata": {},
   "outputs": [],
   "source": [
    "search_bar = driver.find_element_by_xpath('//div[@class=\"zYZEU\"]//input')    # Locating search_bar by xpath\n",
    "search_bar.clear()                                               # clearing search_bar\n",
    "search_bar.send_keys(user_inp)                                   # sending user input to search bar\n",
    "search_button = driver.find_element_by_xpath('//div[@class=\"_3b3oR\"]')       # Locating search_button by xpath\n",
    "search_button.click()"
   ]
  },
  {
   "cell_type": "code",
   "execution_count": 327,
   "id": "7a4e005d",
   "metadata": {},
   "outputs": [],
   "source": [
    "# scrape all product urls\n",
    "urls=[]\n",
    "for i in range(0,1):#for loop for scrapping 1 page\n",
    "    for j in driver.find_elements_by_xpath('//li[@class=\"EIR5N\"]//a'):\n",
    "        urls.append(j.get_attribute('href'))"
   ]
  },
  {
   "cell_type": "code",
   "execution_count": 328,
   "id": "e46bdc9a",
   "metadata": {},
   "outputs": [
    {
     "data": {
      "text/plain": [
       "['https://www.olx.in/item/bmw-6-series-640d-gran-coupe-2013-diesel-iid-1653906605',\n",
       " 'https://www.olx.in/item/porsche-cayenne-coupe-others-2014-diesel-iid-1661726386',\n",
       " 'https://www.olx.in/item/mercedes-benz-gle-coupe-43-amg-coupe-2021-petrol-iid-1659451819',\n",
       " 'https://www.olx.in/item/mercedes-benz-gle-coupe-43-4matic-2018-petrol-iid-1596648796',\n",
       " 'https://www.olx.in/item/bmw-4-series-m4-coupe-2011-diesel-iid-1648274852',\n",
       " 'https://www.olx.in/item/bmw-640d-gran-coupe-201213-iid-1658922992',\n",
       " 'https://www.olx.in/item/bmw-6-series-2008-2011-650i-coupe-2008-petrol-iid-1661264520',\n",
       " 'https://www.olx.in/item/audi-r8-42-v8-coupe-2012-petrol-iid-1602472044',\n",
       " 'https://www.olx.in/item/audi-r8-42-v8-coupe-2009-petrol-iid-1588199700',\n",
       " 'https://www.olx.in/item/bmw-6-series-640d-gran-coupe-2012-diesel-iid-1626744103',\n",
       " 'https://www.olx.in/item/bmw-m4-coupe-2016-iid-1661937970',\n",
       " 'https://www.olx.in/item/bmw-6-series-640d-gran-coupe-2013-diesel-iid-1661364703',\n",
       " 'https://www.olx.in/item/mercedes-benz-s-coupe-s-63-amg-coupe-2016-petrol-iid-1661893001',\n",
       " 'https://www.olx.in/item/bmw-6-series-2008-2011-650i-coupe-2008-petrol-iid-1658159977',\n",
       " 'https://www.olx.in/item/audi-rs5-coupe-2017-petrol-iid-1638396399',\n",
       " 'https://www.olx.in/item/audi-tt-32-coupe-quattro-2010-petrol-iid-1661117654',\n",
       " 'https://www.olx.in/item/audi-tt-32-coupe-quattro-2010-petrol-iid-1661117028',\n",
       " 'https://www.olx.in/item/audi-tt-32-coupe-quattro-2010-petrol-iid-1661117434',\n",
       " 'https://www.olx.in/item/bmw-6-series-2011-2014-640d-coupe-2012-diesel-iid-1660714423',\n",
       " 'https://www.olx.in/item/mercedes-benz-gle-coupe-43-amg-coupe-2016-petrol-iid-1659244849']"
      ]
     },
     "execution_count": 328,
     "metadata": {},
     "output_type": "execute_result"
    }
   ],
   "source": [
    "urls"
   ]
  },
  {
   "cell_type": "code",
   "execution_count": 329,
   "id": "90d7e68e",
   "metadata": {},
   "outputs": [
    {
     "data": {
      "text/plain": [
       "20"
      ]
     },
     "execution_count": 329,
     "metadata": {},
     "output_type": "execute_result"
    }
   ],
   "source": [
    "len(urls)"
   ]
  },
  {
   "cell_type": "code",
   "execution_count": 330,
   "id": "28f0bccb",
   "metadata": {},
   "outputs": [],
   "source": [
    "# finding required details\n",
    "model_list = [] #empty list\n",
    "year_km_list = [] #empty list\n",
    "location_list = [] #empty list\n",
    "price_list = [] #empty list"
   ]
  },
  {
   "cell_type": "code",
   "execution_count": 331,
   "id": "8986c257",
   "metadata": {},
   "outputs": [
    {
     "data": {
      "text/plain": [
       "['₹ 35,00,000',\n",
       " '₹ 42,75,000',\n",
       " '₹ 83,00,000',\n",
       " '₹ 85,00,000',\n",
       " '₹ 4,75,000',\n",
       " '₹ 30,50,000',\n",
       " '₹ 22,00,000',\n",
       " '₹ 65,00,000',\n",
       " '₹ 44,99,999',\n",
       " '₹ 32,50,000',\n",
       " '₹ 60,00,000',\n",
       " '₹ 27,99,999',\n",
       " '₹ 1,60,00,000',\n",
       " '₹ 16,00,000',\n",
       " '₹ 91,00,000',\n",
       " '₹ 22,50,000',\n",
       " '₹ 22,50,000',\n",
       " '₹ 22,50,000',\n",
       " '₹ 32,90,000',\n",
       " '₹ 59,75,000']"
      ]
     },
     "execution_count": 331,
     "metadata": {},
     "output_type": "execute_result"
    }
   ],
   "source": [
    "# extract all tags having the price_list\n",
    "price_tags = driver.find_elements_by_xpath('//span[@class=\"_89yzn\"]')\n",
    "\n",
    "for i in price_tags:\n",
    "    price_list.append(i.text)\n",
    "price_list"
   ]
  },
  {
   "cell_type": "code",
   "execution_count": 332,
   "id": "32438f6c",
   "metadata": {},
   "outputs": [
    {
     "data": {
      "text/plain": [
       "20"
      ]
     },
     "execution_count": 332,
     "metadata": {},
     "output_type": "execute_result"
    }
   ],
   "source": [
    "len(price_list)"
   ]
  },
  {
   "cell_type": "code",
   "execution_count": 333,
   "id": "221de0a3",
   "metadata": {},
   "outputs": [
    {
     "data": {
      "text/plain": [
       "['BMW 6 Series 640d Gran Coupe, 2013, Diesel',\n",
       " 'Porsche Cayenne Coupe Others, 2014, Diesel',\n",
       " 'Mercedes-Benz GLE COUPE 43 AMG Coupe, 2021, Petrol',\n",
       " 'Mercedes-Benz GLE COUPE 43 4MATIC, 2018, Petrol',\n",
       " 'BMW 4 Series M4 Coupe, 2011, Diesel',\n",
       " 'BMW 640d Gran coupe 2012/13',\n",
       " 'BMW 6 Series 2008-2011 650i Coupe, 2008, Petrol',\n",
       " 'Audi R8 4.2 V8 Coupe, 2012, Petrol',\n",
       " 'Audi R8 4.2 V8 Coupe, 2009, Petrol',\n",
       " 'BMW 6 Series 640d Gran Coupe, 2012, Diesel',\n",
       " 'BMW M4 Coupe 2016',\n",
       " 'BMW 6 Series 640d Gran Coupe, 2013, Diesel',\n",
       " 'Mercedes-Benz S-Coupe S 63 AMG Coupe, 2016, Petrol',\n",
       " 'BMW 6 Series 2008-2011 650i Coupe, 2008, Petrol',\n",
       " 'Audi RS5 Coupe, 2017, Petrol',\n",
       " 'Audi TT 3.2 Coupe quattro, 2010, Petrol',\n",
       " 'Audi TT 3.2 Coupe quattro, 2010, Petrol',\n",
       " 'Audi TT 3.2 Coupe quattro, 2010, Petrol',\n",
       " 'BMW 6 Series 2011-2014 640d Coupe, 2012, Diesel',\n",
       " 'Mercedes-Benz GLE COUPE 43 AMG Coupe, 2016, Petrol']"
      ]
     },
     "execution_count": 333,
     "metadata": {},
     "output_type": "execute_result"
    }
   ],
   "source": [
    "#extract all tags having model_list\n",
    "model_tags = driver.find_elements_by_xpath('//span[@class=\"_2tW1I\"]')\n",
    "\n",
    "for i in model_tags:\n",
    "    model_list.append(i.text)\n",
    "model_list"
   ]
  },
  {
   "cell_type": "code",
   "execution_count": 334,
   "id": "2d0933e8",
   "metadata": {},
   "outputs": [
    {
     "data": {
      "text/plain": [
       "20"
      ]
     },
     "execution_count": 334,
     "metadata": {},
     "output_type": "execute_result"
    }
   ],
   "source": [
    "len(model_list)"
   ]
  },
  {
   "cell_type": "code",
   "execution_count": 335,
   "id": "4001d657",
   "metadata": {},
   "outputs": [
    {
     "data": {
      "text/plain": [
       "['PRAHLAD NAGAR, AHMEDABAD',\n",
       " 'HEBBAL, BENGALURU',\n",
       " 'CONNAUGHT PLACE, DELHI',\n",
       " 'PALARIVATTOM, KOCHI',\n",
       " 'ALLAHABAD NEW CANTONMENT RESIDENTIAL AREA, ALLAHABAD',\n",
       " 'T NAGAR, CHENNAI',\n",
       " 'MANGALURU, KARNATAKA',\n",
       " 'BANDRA WEST, MUMBAI',\n",
       " 'BANDRA WEST, MUMBAI',\n",
       " 'KIRTI NAGAR, DELHI',\n",
       " 'ALTHAN, SURAT',\n",
       " 'VIRAR WEST, MUMBAI',\n",
       " 'NARAINA, DELHI',\n",
       " 'VASANT KUNJ, DELHI',\n",
       " 'INDUSTRIAL AREA, CHANDIGARH',\n",
       " 'VARACHA, SURAT',\n",
       " 'KARELIBAUGH, VADODARA',\n",
       " 'SG HIGHWAY, AHMEDABAD',\n",
       " 'VASANT KUNJ, DELHI',\n",
       " 'VASANT KUNJ, DELHI']"
      ]
     },
     "execution_count": 335,
     "metadata": {},
     "output_type": "execute_result"
    }
   ],
   "source": [
    "#extracting all tag haing location_list\n",
    "location_tags = driver.find_elements_by_xpath('//span[@class=\"tjgMj\"]')\n",
    "for i in location_tags:\n",
    "    location_list.append(i.text)\n",
    "location_list\n",
    "    "
   ]
  },
  {
   "cell_type": "code",
   "execution_count": 336,
   "id": "d62dd732",
   "metadata": {},
   "outputs": [
    {
     "data": {
      "text/plain": [
       "20"
      ]
     },
     "execution_count": 336,
     "metadata": {},
     "output_type": "execute_result"
    }
   ],
   "source": [
    "len(location_list)"
   ]
  },
  {
   "cell_type": "code",
   "execution_count": 337,
   "id": "efea8eaa",
   "metadata": {},
   "outputs": [
    {
     "data": {
      "text/plain": [
       "['2013 - 19,000 km',\n",
       " '2014 - 55,000 km',\n",
       " '2021 - 7,000 km',\n",
       " '2018 - 23,000 km',\n",
       " '2011 - 88,566 km',\n",
       " '2013 - 35,000 km',\n",
       " '2008 - 65,000 km',\n",
       " '2012 - 13,000 km',\n",
       " '2009 - 20,000 km',\n",
       " '2012 - 60,000 km',\n",
       " '2016 - 20,000 km',\n",
       " '2013 - 34,000 km',\n",
       " '2016 - 27,000 km',\n",
       " '2008 - 37,000 km',\n",
       " '2017 - 5,034 km',\n",
       " '2010 - 23,000 km',\n",
       " '2010 - 23,000 km',\n",
       " '2010 - 23,000 km',\n",
       " '2012 - 50,000 km',\n",
       " '2016 - 40,700 km']"
      ]
     },
     "execution_count": 337,
     "metadata": {},
     "output_type": "execute_result"
    }
   ],
   "source": [
    "#extarct all tags having year_km_list\n",
    "km_tags = driver.find_elements_by_xpath('//span[@class=\"_2TVI3\"]')\n",
    "\n",
    "for i in km_tags:\n",
    "    year_km_list.append(i.text)\n",
    "year_km_list"
   ]
  },
  {
   "cell_type": "code",
   "execution_count": 338,
   "id": "373e8043",
   "metadata": {},
   "outputs": [
    {
     "data": {
      "text/plain": [
       "20"
      ]
     },
     "execution_count": 338,
     "metadata": {},
     "output_type": "execute_result"
    }
   ],
   "source": [
    "len(year_km_list)"
   ]
  },
  {
   "cell_type": "code",
   "execution_count": 339,
   "id": "5a34b0fb",
   "metadata": {},
   "outputs": [
    {
     "data": {
      "text/html": [
       "<div>\n",
       "<style scoped>\n",
       "    .dataframe tbody tr th:only-of-type {\n",
       "        vertical-align: middle;\n",
       "    }\n",
       "\n",
       "    .dataframe tbody tr th {\n",
       "        vertical-align: top;\n",
       "    }\n",
       "\n",
       "    .dataframe thead th {\n",
       "        text-align: right;\n",
       "    }\n",
       "</style>\n",
       "<table border=\"1\" class=\"dataframe\">\n",
       "  <thead>\n",
       "    <tr style=\"text-align: right;\">\n",
       "      <th></th>\n",
       "      <th>model_list</th>\n",
       "      <th>year_km_list</th>\n",
       "      <th>location_list</th>\n",
       "      <th>price_list</th>\n",
       "    </tr>\n",
       "  </thead>\n",
       "  <tbody>\n",
       "    <tr>\n",
       "      <th>0</th>\n",
       "      <td>BMW 6 Series 640d Gran Coupe, 2013, Diesel</td>\n",
       "      <td>2013 - 19,000 km</td>\n",
       "      <td>PRAHLAD NAGAR, AHMEDABAD</td>\n",
       "      <td>₹ 35,00,000</td>\n",
       "    </tr>\n",
       "    <tr>\n",
       "      <th>1</th>\n",
       "      <td>Porsche Cayenne Coupe Others, 2014, Diesel</td>\n",
       "      <td>2014 - 55,000 km</td>\n",
       "      <td>HEBBAL, BENGALURU</td>\n",
       "      <td>₹ 42,75,000</td>\n",
       "    </tr>\n",
       "    <tr>\n",
       "      <th>2</th>\n",
       "      <td>Mercedes-Benz GLE COUPE 43 AMG Coupe, 2021, Pe...</td>\n",
       "      <td>2021 - 7,000 km</td>\n",
       "      <td>CONNAUGHT PLACE, DELHI</td>\n",
       "      <td>₹ 83,00,000</td>\n",
       "    </tr>\n",
       "    <tr>\n",
       "      <th>3</th>\n",
       "      <td>Mercedes-Benz GLE COUPE 43 4MATIC, 2018, Petrol</td>\n",
       "      <td>2018 - 23,000 km</td>\n",
       "      <td>PALARIVATTOM, KOCHI</td>\n",
       "      <td>₹ 85,00,000</td>\n",
       "    </tr>\n",
       "    <tr>\n",
       "      <th>4</th>\n",
       "      <td>BMW 4 Series M4 Coupe, 2011, Diesel</td>\n",
       "      <td>2011 - 88,566 km</td>\n",
       "      <td>ALLAHABAD NEW CANTONMENT RESIDENTIAL AREA, ALL...</td>\n",
       "      <td>₹ 4,75,000</td>\n",
       "    </tr>\n",
       "    <tr>\n",
       "      <th>5</th>\n",
       "      <td>BMW 640d Gran coupe 2012/13</td>\n",
       "      <td>2013 - 35,000 km</td>\n",
       "      <td>T NAGAR, CHENNAI</td>\n",
       "      <td>₹ 30,50,000</td>\n",
       "    </tr>\n",
       "    <tr>\n",
       "      <th>6</th>\n",
       "      <td>BMW 6 Series 2008-2011 650i Coupe, 2008, Petrol</td>\n",
       "      <td>2008 - 65,000 km</td>\n",
       "      <td>MANGALURU, KARNATAKA</td>\n",
       "      <td>₹ 22,00,000</td>\n",
       "    </tr>\n",
       "    <tr>\n",
       "      <th>7</th>\n",
       "      <td>Audi R8 4.2 V8 Coupe, 2012, Petrol</td>\n",
       "      <td>2012 - 13,000 km</td>\n",
       "      <td>BANDRA WEST, MUMBAI</td>\n",
       "      <td>₹ 65,00,000</td>\n",
       "    </tr>\n",
       "    <tr>\n",
       "      <th>8</th>\n",
       "      <td>Audi R8 4.2 V8 Coupe, 2009, Petrol</td>\n",
       "      <td>2009 - 20,000 km</td>\n",
       "      <td>BANDRA WEST, MUMBAI</td>\n",
       "      <td>₹ 44,99,999</td>\n",
       "    </tr>\n",
       "    <tr>\n",
       "      <th>9</th>\n",
       "      <td>BMW 6 Series 640d Gran Coupe, 2012, Diesel</td>\n",
       "      <td>2012 - 60,000 km</td>\n",
       "      <td>KIRTI NAGAR, DELHI</td>\n",
       "      <td>₹ 32,50,000</td>\n",
       "    </tr>\n",
       "    <tr>\n",
       "      <th>10</th>\n",
       "      <td>BMW M4 Coupe 2016</td>\n",
       "      <td>2016 - 20,000 km</td>\n",
       "      <td>ALTHAN, SURAT</td>\n",
       "      <td>₹ 60,00,000</td>\n",
       "    </tr>\n",
       "    <tr>\n",
       "      <th>11</th>\n",
       "      <td>BMW 6 Series 640d Gran Coupe, 2013, Diesel</td>\n",
       "      <td>2013 - 34,000 km</td>\n",
       "      <td>VIRAR WEST, MUMBAI</td>\n",
       "      <td>₹ 27,99,999</td>\n",
       "    </tr>\n",
       "    <tr>\n",
       "      <th>12</th>\n",
       "      <td>Mercedes-Benz S-Coupe S 63 AMG Coupe, 2016, Pe...</td>\n",
       "      <td>2016 - 27,000 km</td>\n",
       "      <td>NARAINA, DELHI</td>\n",
       "      <td>₹ 1,60,00,000</td>\n",
       "    </tr>\n",
       "    <tr>\n",
       "      <th>13</th>\n",
       "      <td>BMW 6 Series 2008-2011 650i Coupe, 2008, Petrol</td>\n",
       "      <td>2008 - 37,000 km</td>\n",
       "      <td>VASANT KUNJ, DELHI</td>\n",
       "      <td>₹ 16,00,000</td>\n",
       "    </tr>\n",
       "    <tr>\n",
       "      <th>14</th>\n",
       "      <td>Audi RS5 Coupe, 2017, Petrol</td>\n",
       "      <td>2017 - 5,034 km</td>\n",
       "      <td>INDUSTRIAL AREA, CHANDIGARH</td>\n",
       "      <td>₹ 91,00,000</td>\n",
       "    </tr>\n",
       "    <tr>\n",
       "      <th>15</th>\n",
       "      <td>Audi TT 3.2 Coupe quattro, 2010, Petrol</td>\n",
       "      <td>2010 - 23,000 km</td>\n",
       "      <td>VARACHA, SURAT</td>\n",
       "      <td>₹ 22,50,000</td>\n",
       "    </tr>\n",
       "    <tr>\n",
       "      <th>16</th>\n",
       "      <td>Audi TT 3.2 Coupe quattro, 2010, Petrol</td>\n",
       "      <td>2010 - 23,000 km</td>\n",
       "      <td>KARELIBAUGH, VADODARA</td>\n",
       "      <td>₹ 22,50,000</td>\n",
       "    </tr>\n",
       "    <tr>\n",
       "      <th>17</th>\n",
       "      <td>Audi TT 3.2 Coupe quattro, 2010, Petrol</td>\n",
       "      <td>2010 - 23,000 km</td>\n",
       "      <td>SG HIGHWAY, AHMEDABAD</td>\n",
       "      <td>₹ 22,50,000</td>\n",
       "    </tr>\n",
       "    <tr>\n",
       "      <th>18</th>\n",
       "      <td>BMW 6 Series 2011-2014 640d Coupe, 2012, Diesel</td>\n",
       "      <td>2012 - 50,000 km</td>\n",
       "      <td>VASANT KUNJ, DELHI</td>\n",
       "      <td>₹ 32,90,000</td>\n",
       "    </tr>\n",
       "    <tr>\n",
       "      <th>19</th>\n",
       "      <td>Mercedes-Benz GLE COUPE 43 AMG Coupe, 2016, Pe...</td>\n",
       "      <td>2016 - 40,700 km</td>\n",
       "      <td>VASANT KUNJ, DELHI</td>\n",
       "      <td>₹ 59,75,000</td>\n",
       "    </tr>\n",
       "  </tbody>\n",
       "</table>\n",
       "</div>"
      ],
      "text/plain": [
       "                                           model_list      year_km_list  \\\n",
       "0          BMW 6 Series 640d Gran Coupe, 2013, Diesel  2013 - 19,000 km   \n",
       "1          Porsche Cayenne Coupe Others, 2014, Diesel  2014 - 55,000 km   \n",
       "2   Mercedes-Benz GLE COUPE 43 AMG Coupe, 2021, Pe...   2021 - 7,000 km   \n",
       "3     Mercedes-Benz GLE COUPE 43 4MATIC, 2018, Petrol  2018 - 23,000 km   \n",
       "4                 BMW 4 Series M4 Coupe, 2011, Diesel  2011 - 88,566 km   \n",
       "5                         BMW 640d Gran coupe 2012/13  2013 - 35,000 km   \n",
       "6     BMW 6 Series 2008-2011 650i Coupe, 2008, Petrol  2008 - 65,000 km   \n",
       "7                  Audi R8 4.2 V8 Coupe, 2012, Petrol  2012 - 13,000 km   \n",
       "8                  Audi R8 4.2 V8 Coupe, 2009, Petrol  2009 - 20,000 km   \n",
       "9          BMW 6 Series 640d Gran Coupe, 2012, Diesel  2012 - 60,000 km   \n",
       "10                                  BMW M4 Coupe 2016  2016 - 20,000 km   \n",
       "11         BMW 6 Series 640d Gran Coupe, 2013, Diesel  2013 - 34,000 km   \n",
       "12  Mercedes-Benz S-Coupe S 63 AMG Coupe, 2016, Pe...  2016 - 27,000 km   \n",
       "13    BMW 6 Series 2008-2011 650i Coupe, 2008, Petrol  2008 - 37,000 km   \n",
       "14                       Audi RS5 Coupe, 2017, Petrol   2017 - 5,034 km   \n",
       "15            Audi TT 3.2 Coupe quattro, 2010, Petrol  2010 - 23,000 km   \n",
       "16            Audi TT 3.2 Coupe quattro, 2010, Petrol  2010 - 23,000 km   \n",
       "17            Audi TT 3.2 Coupe quattro, 2010, Petrol  2010 - 23,000 km   \n",
       "18    BMW 6 Series 2011-2014 640d Coupe, 2012, Diesel  2012 - 50,000 km   \n",
       "19  Mercedes-Benz GLE COUPE 43 AMG Coupe, 2016, Pe...  2016 - 40,700 km   \n",
       "\n",
       "                                        location_list     price_list  \n",
       "0                            PRAHLAD NAGAR, AHMEDABAD    ₹ 35,00,000  \n",
       "1                                   HEBBAL, BENGALURU    ₹ 42,75,000  \n",
       "2                              CONNAUGHT PLACE, DELHI    ₹ 83,00,000  \n",
       "3                                 PALARIVATTOM, KOCHI    ₹ 85,00,000  \n",
       "4   ALLAHABAD NEW CANTONMENT RESIDENTIAL AREA, ALL...     ₹ 4,75,000  \n",
       "5                                    T NAGAR, CHENNAI    ₹ 30,50,000  \n",
       "6                                MANGALURU, KARNATAKA    ₹ 22,00,000  \n",
       "7                                 BANDRA WEST, MUMBAI    ₹ 65,00,000  \n",
       "8                                 BANDRA WEST, MUMBAI    ₹ 44,99,999  \n",
       "9                                  KIRTI NAGAR, DELHI    ₹ 32,50,000  \n",
       "10                                      ALTHAN, SURAT    ₹ 60,00,000  \n",
       "11                                 VIRAR WEST, MUMBAI    ₹ 27,99,999  \n",
       "12                                     NARAINA, DELHI  ₹ 1,60,00,000  \n",
       "13                                 VASANT KUNJ, DELHI    ₹ 16,00,000  \n",
       "14                        INDUSTRIAL AREA, CHANDIGARH    ₹ 91,00,000  \n",
       "15                                     VARACHA, SURAT    ₹ 22,50,000  \n",
       "16                              KARELIBAUGH, VADODARA    ₹ 22,50,000  \n",
       "17                              SG HIGHWAY, AHMEDABAD    ₹ 22,50,000  \n",
       "18                                 VASANT KUNJ, DELHI    ₹ 32,90,000  \n",
       "19                                 VASANT KUNJ, DELHI    ₹ 59,75,000  "
      ]
     },
     "execution_count": 339,
     "metadata": {},
     "output_type": "execute_result"
    }
   ],
   "source": [
    "#Make dataframe\n",
    "# Make data frame\n",
    "used_cars = pd.DataFrame({})\n",
    "used_cars['model_list']=model_list\n",
    "used_cars['year_km_list']=year_km_list\n",
    "used_cars['location_list']=location_list\n",
    "used_cars['price_list']=price_list\n",
    "used_cars"
   ]
  },
  {
   "cell_type": "code",
   "execution_count": 8,
   "id": "411729fb",
   "metadata": {},
   "outputs": [
    {
     "data": {
      "text/plain": [
       "<selenium.webdriver.chrome.webdriver.WebDriver (session=\"db5cc815823d67457ed61ace207868d7\")>"
      ]
     },
     "execution_count": 8,
     "metadata": {},
     "output_type": "execute_result"
    }
   ],
   "source": [
    "# connect first with webdriver\n",
    "driver = webdriver.Chrome(r\"C:\\Users\\admin\\Desktop\\Python basis\\chromedriver.exe\")\n",
    "driver"
   ]
  },
  {
   "cell_type": "code",
   "execution_count": 9,
   "id": "4b711419",
   "metadata": {},
   "outputs": [],
   "source": [
    "#Opening the url\n",
    "url='https://www.cars24.com/'\n",
    "driver.get(url)\n",
    "\n",
    "#time.sleep(2)\n",
    "# Asking the user to input the keywords he/she wants to search\n",
    "#user_inp = input('Enter the product you want to search : ')"
   ]
  },
  {
   "cell_type": "code",
   "execution_count": 22,
   "id": "5dbbd1ca",
   "metadata": {},
   "outputs": [
    {
     "ename": "NoSuchElementException",
     "evalue": "Message: no such element: Unable to locate element: {\"method\":\"xpath\",\"selector\":\"//ul[@class=\"float-right _1yq3e\"]/li[3]/a\"}\n  (Session info: chrome=95.0.4638.69)\nStacktrace:\nBacktrace:\n\tOrdinal0 [0x009206F3+2492147]\n\tOrdinal0 [0x008B9BD1+2071505]\n\tOrdinal0 [0x007C2478+1057912]\n\tOrdinal0 [0x007EC964+1231204]\n\tOrdinal0 [0x00816B62+1403746]\n\tOrdinal0 [0x008057FA+1333242]\n\tOrdinal0 [0x00814F38+1396536]\n\tOrdinal0 [0x0080568B+1332875]\n\tOrdinal0 [0x007E21D4+1188308]\n\tOrdinal0 [0x007E302F+1191983]\n\tGetHandleVerifier [0x00AA67A6+1545030]\n\tGetHandleVerifier [0x00B5105C+2243580]\n\tGetHandleVerifier [0x009ABC97+518199]\n\tGetHandleVerifier [0x009AAD80+514336]\n\tOrdinal0 [0x008BED2D+2092333]\n\tOrdinal0 [0x008C2EE8+2109160]\n\tOrdinal0 [0x008C3022+2109474]\n\tOrdinal0 [0x008CCB71+2149233]\n\tBaseThreadInitThunk [0x75D6FA29+25]\n\tRtlGetAppContainerNamedObjectPath [0x77E77A7E+286]\n\tRtlGetAppContainerNamedObjectPath [0x77E77A4E+238]\n",
     "output_type": "error",
     "traceback": [
      "\u001b[1;31m---------------------------------------------------------------------------\u001b[0m",
      "\u001b[1;31mNoSuchElementException\u001b[0m                    Traceback (most recent call last)",
      "\u001b[1;32m<ipython-input-22-8311a2c5b1f1>\u001b[0m in \u001b[0;36m<module>\u001b[1;34m\u001b[0m\n\u001b[1;32m----> 1\u001b[1;33m \u001b[0msearch_bar\u001b[0m \u001b[1;33m=\u001b[0m \u001b[0mdriver\u001b[0m\u001b[1;33m.\u001b[0m\u001b[0mfind_element_by_xpath\u001b[0m\u001b[1;33m(\u001b[0m\u001b[1;34m'//ul[@class=\"float-right _1yq3e\"]/li[3]/a'\u001b[0m\u001b[1;33m)\u001b[0m\u001b[1;33m.\u001b[0m\u001b[0mclick\u001b[0m\u001b[1;33m(\u001b[0m\u001b[1;33m)\u001b[0m      \u001b[1;31m# Locating search_bar by xpath\u001b[0m\u001b[1;33m\u001b[0m\u001b[1;33m\u001b[0m\u001b[0m\n\u001b[0m\u001b[0;32m      2\u001b[0m \u001b[1;31m#search_bar.clear()                                               # clearing search_bar\u001b[0m\u001b[1;33m\u001b[0m\u001b[1;33m\u001b[0m\u001b[1;33m\u001b[0m\u001b[0m\n\u001b[0;32m      3\u001b[0m \u001b[1;31m#search_bar.send_keys(user_inp)                                   # sending user input to search bar\u001b[0m\u001b[1;33m\u001b[0m\u001b[1;33m\u001b[0m\u001b[1;33m\u001b[0m\u001b[0m\n\u001b[0;32m      4\u001b[0m \u001b[1;31m#search_button = driver.find_element_by_xpath('//button[@class=\"searchbtn\"]')       # Locating search_button by xpath\u001b[0m\u001b[1;33m\u001b[0m\u001b[1;33m\u001b[0m\u001b[1;33m\u001b[0m\u001b[0m\n\u001b[0;32m      5\u001b[0m \u001b[1;31m#search_button.click()\u001b[0m\u001b[1;33m\u001b[0m\u001b[1;33m\u001b[0m\u001b[1;33m\u001b[0m\u001b[0m\n",
      "\u001b[1;32m~\\anaconda3\\lib\\site-packages\\selenium\\webdriver\\remote\\webdriver.py\u001b[0m in \u001b[0;36mfind_element_by_xpath\u001b[1;34m(self, xpath)\u001b[0m\n\u001b[0;32m    512\u001b[0m             \u001b[0mstacklevel\u001b[0m\u001b[1;33m=\u001b[0m\u001b[1;36m2\u001b[0m\u001b[1;33m,\u001b[0m\u001b[1;33m\u001b[0m\u001b[1;33m\u001b[0m\u001b[0m\n\u001b[0;32m    513\u001b[0m         )\n\u001b[1;32m--> 514\u001b[1;33m         \u001b[1;32mreturn\u001b[0m \u001b[0mself\u001b[0m\u001b[1;33m.\u001b[0m\u001b[0mfind_element\u001b[0m\u001b[1;33m(\u001b[0m\u001b[0mby\u001b[0m\u001b[1;33m=\u001b[0m\u001b[0mBy\u001b[0m\u001b[1;33m.\u001b[0m\u001b[0mXPATH\u001b[0m\u001b[1;33m,\u001b[0m \u001b[0mvalue\u001b[0m\u001b[1;33m=\u001b[0m\u001b[0mxpath\u001b[0m\u001b[1;33m)\u001b[0m\u001b[1;33m\u001b[0m\u001b[1;33m\u001b[0m\u001b[0m\n\u001b[0m\u001b[0;32m    515\u001b[0m \u001b[1;33m\u001b[0m\u001b[0m\n\u001b[0;32m    516\u001b[0m     \u001b[1;32mdef\u001b[0m \u001b[0mfind_elements_by_xpath\u001b[0m\u001b[1;33m(\u001b[0m\u001b[0mself\u001b[0m\u001b[1;33m,\u001b[0m \u001b[0mxpath\u001b[0m\u001b[1;33m)\u001b[0m \u001b[1;33m->\u001b[0m \u001b[0mWebElement\u001b[0m\u001b[1;33m:\u001b[0m\u001b[1;33m\u001b[0m\u001b[1;33m\u001b[0m\u001b[0m\n",
      "\u001b[1;32m~\\anaconda3\\lib\\site-packages\\selenium\\webdriver\\remote\\webdriver.py\u001b[0m in \u001b[0;36mfind_element\u001b[1;34m(self, by, value)\u001b[0m\n\u001b[0;32m   1236\u001b[0m             \u001b[0mvalue\u001b[0m \u001b[1;33m=\u001b[0m \u001b[1;34m'[name=\"%s\"]'\u001b[0m \u001b[1;33m%\u001b[0m \u001b[0mvalue\u001b[0m\u001b[1;33m\u001b[0m\u001b[1;33m\u001b[0m\u001b[0m\n\u001b[0;32m   1237\u001b[0m \u001b[1;33m\u001b[0m\u001b[0m\n\u001b[1;32m-> 1238\u001b[1;33m         return self.execute(Command.FIND_ELEMENT, {\n\u001b[0m\u001b[0;32m   1239\u001b[0m             \u001b[1;34m'using'\u001b[0m\u001b[1;33m:\u001b[0m \u001b[0mby\u001b[0m\u001b[1;33m,\u001b[0m\u001b[1;33m\u001b[0m\u001b[1;33m\u001b[0m\u001b[0m\n\u001b[0;32m   1240\u001b[0m             'value': value})['value']\n",
      "\u001b[1;32m~\\anaconda3\\lib\\site-packages\\selenium\\webdriver\\remote\\webdriver.py\u001b[0m in \u001b[0;36mexecute\u001b[1;34m(self, driver_command, params)\u001b[0m\n\u001b[0;32m    416\u001b[0m         \u001b[0mresponse\u001b[0m \u001b[1;33m=\u001b[0m \u001b[0mself\u001b[0m\u001b[1;33m.\u001b[0m\u001b[0mcommand_executor\u001b[0m\u001b[1;33m.\u001b[0m\u001b[0mexecute\u001b[0m\u001b[1;33m(\u001b[0m\u001b[0mdriver_command\u001b[0m\u001b[1;33m,\u001b[0m \u001b[0mparams\u001b[0m\u001b[1;33m)\u001b[0m\u001b[1;33m\u001b[0m\u001b[1;33m\u001b[0m\u001b[0m\n\u001b[0;32m    417\u001b[0m         \u001b[1;32mif\u001b[0m \u001b[0mresponse\u001b[0m\u001b[1;33m:\u001b[0m\u001b[1;33m\u001b[0m\u001b[1;33m\u001b[0m\u001b[0m\n\u001b[1;32m--> 418\u001b[1;33m             \u001b[0mself\u001b[0m\u001b[1;33m.\u001b[0m\u001b[0merror_handler\u001b[0m\u001b[1;33m.\u001b[0m\u001b[0mcheck_response\u001b[0m\u001b[1;33m(\u001b[0m\u001b[0mresponse\u001b[0m\u001b[1;33m)\u001b[0m\u001b[1;33m\u001b[0m\u001b[1;33m\u001b[0m\u001b[0m\n\u001b[0m\u001b[0;32m    419\u001b[0m             response['value'] = self._unwrap_value(\n\u001b[0;32m    420\u001b[0m                 response.get('value', None))\n",
      "\u001b[1;32m~\\anaconda3\\lib\\site-packages\\selenium\\webdriver\\remote\\errorhandler.py\u001b[0m in \u001b[0;36mcheck_response\u001b[1;34m(self, response)\u001b[0m\n\u001b[0;32m    241\u001b[0m                 \u001b[0malert_text\u001b[0m \u001b[1;33m=\u001b[0m \u001b[0mvalue\u001b[0m\u001b[1;33m[\u001b[0m\u001b[1;34m'alert'\u001b[0m\u001b[1;33m]\u001b[0m\u001b[1;33m.\u001b[0m\u001b[0mget\u001b[0m\u001b[1;33m(\u001b[0m\u001b[1;34m'text'\u001b[0m\u001b[1;33m)\u001b[0m\u001b[1;33m\u001b[0m\u001b[1;33m\u001b[0m\u001b[0m\n\u001b[0;32m    242\u001b[0m             \u001b[1;32mraise\u001b[0m \u001b[0mexception_class\u001b[0m\u001b[1;33m(\u001b[0m\u001b[0mmessage\u001b[0m\u001b[1;33m,\u001b[0m \u001b[0mscreen\u001b[0m\u001b[1;33m,\u001b[0m \u001b[0mstacktrace\u001b[0m\u001b[1;33m,\u001b[0m \u001b[0malert_text\u001b[0m\u001b[1;33m)\u001b[0m  \u001b[1;31m# type: ignore[call-arg]  # mypy is not smart enough here\u001b[0m\u001b[1;33m\u001b[0m\u001b[1;33m\u001b[0m\u001b[0m\n\u001b[1;32m--> 243\u001b[1;33m         \u001b[1;32mraise\u001b[0m \u001b[0mexception_class\u001b[0m\u001b[1;33m(\u001b[0m\u001b[0mmessage\u001b[0m\u001b[1;33m,\u001b[0m \u001b[0mscreen\u001b[0m\u001b[1;33m,\u001b[0m \u001b[0mstacktrace\u001b[0m\u001b[1;33m)\u001b[0m\u001b[1;33m\u001b[0m\u001b[1;33m\u001b[0m\u001b[0m\n\u001b[0m\u001b[0;32m    244\u001b[0m \u001b[1;33m\u001b[0m\u001b[0m\n\u001b[0;32m    245\u001b[0m     \u001b[1;32mdef\u001b[0m \u001b[0m_value_or_default\u001b[0m\u001b[1;33m(\u001b[0m\u001b[0mself\u001b[0m\u001b[1;33m,\u001b[0m \u001b[0mobj\u001b[0m\u001b[1;33m:\u001b[0m \u001b[0mMapping\u001b[0m\u001b[1;33m[\u001b[0m\u001b[0m_KT\u001b[0m\u001b[1;33m,\u001b[0m \u001b[0m_VT\u001b[0m\u001b[1;33m]\u001b[0m\u001b[1;33m,\u001b[0m \u001b[0mkey\u001b[0m\u001b[1;33m:\u001b[0m \u001b[0m_KT\u001b[0m\u001b[1;33m,\u001b[0m \u001b[0mdefault\u001b[0m\u001b[1;33m:\u001b[0m \u001b[0m_VT\u001b[0m\u001b[1;33m)\u001b[0m \u001b[1;33m->\u001b[0m \u001b[0m_VT\u001b[0m\u001b[1;33m:\u001b[0m\u001b[1;33m\u001b[0m\u001b[1;33m\u001b[0m\u001b[0m\n",
      "\u001b[1;31mNoSuchElementException\u001b[0m: Message: no such element: Unable to locate element: {\"method\":\"xpath\",\"selector\":\"//ul[@class=\"float-right _1yq3e\"]/li[3]/a\"}\n  (Session info: chrome=95.0.4638.69)\nStacktrace:\nBacktrace:\n\tOrdinal0 [0x009206F3+2492147]\n\tOrdinal0 [0x008B9BD1+2071505]\n\tOrdinal0 [0x007C2478+1057912]\n\tOrdinal0 [0x007EC964+1231204]\n\tOrdinal0 [0x00816B62+1403746]\n\tOrdinal0 [0x008057FA+1333242]\n\tOrdinal0 [0x00814F38+1396536]\n\tOrdinal0 [0x0080568B+1332875]\n\tOrdinal0 [0x007E21D4+1188308]\n\tOrdinal0 [0x007E302F+1191983]\n\tGetHandleVerifier [0x00AA67A6+1545030]\n\tGetHandleVerifier [0x00B5105C+2243580]\n\tGetHandleVerifier [0x009ABC97+518199]\n\tGetHandleVerifier [0x009AAD80+514336]\n\tOrdinal0 [0x008BED2D+2092333]\n\tOrdinal0 [0x008C2EE8+2109160]\n\tOrdinal0 [0x008C3022+2109474]\n\tOrdinal0 [0x008CCB71+2149233]\n\tBaseThreadInitThunk [0x75D6FA29+25]\n\tRtlGetAppContainerNamedObjectPath [0x77E77A7E+286]\n\tRtlGetAppContainerNamedObjectPath [0x77E77A4E+238]\n"
     ]
    }
   ],
   "source": [
    "search_bar = driver.find_element_by_xpath('//ul[@class=\"float-right _1yq3e\"]/li[3]/a').click()      # Locating search_bar by xpath\n",
    "#search_bar.clear()                                               # clearing search_bar\n",
    "#search_bar.send_keys(user_inp)                                   # sending user input to search bar\n",
    "#search_button = driver.find_element_by_xpath('//button[@class=\"searchbtn\"]')       # Locating search_button by xpath\n",
    "#search_button.click()"
   ]
  },
  {
   "cell_type": "code",
   "execution_count": 20,
   "id": "02650e53",
   "metadata": {},
   "outputs": [],
   "source": [
    "product_urls = []\n",
    "start=0\n",
    "end=1\n",
    "for page in range(start,end):#for loop for scrapping 1 page\n",
    "    url=driver.find_elements_by_xpath('//div[@class=\"col-4\"]//a')       #scraping urls\n",
    "    for i in url:\n",
    "        product_urls.append(i.get_attribute(\"href\"))                        #appending the urls in product_urls list\n",
    "    #nxt_button=driver.find_element_by_xpath(\"//button[@class='rui-39-wj rui-3evoE rui-1JPTg']\")     #scraping the list of buttons from the page\n",
    "    #nxt_button.click()\n",
    "    #time.sleep(2)"
   ]
  },
  {
   "cell_type": "code",
   "execution_count": 21,
   "id": "59332e86",
   "metadata": {},
   "outputs": [
    {
     "data": {
      "text/plain": [
       "[]"
      ]
     },
     "execution_count": 21,
     "metadata": {},
     "output_type": "execute_result"
    }
   ],
   "source": [
    "product_urls"
   ]
  },
  {
   "cell_type": "code",
   "execution_count": 24,
   "id": "2600b63a",
   "metadata": {},
   "outputs": [],
   "source": [
    "#Opening the url\n",
    "url='https://www.cars24.com/'\n",
    "driver.get(url)"
   ]
  },
  {
   "cell_type": "code",
   "execution_count": 26,
   "id": "5c17db11",
   "metadata": {},
   "outputs": [
    {
     "data": {
      "text/plain": [
       "<selenium.webdriver.remote.webelement.WebElement (session=\"db5cc815823d67457ed61ace207868d7\", element=\"064969cf-f221-46e5-9a15-dc95733f1694\")>"
      ]
     },
     "execution_count": 26,
     "metadata": {},
     "output_type": "execute_result"
    }
   ],
   "source": [
    "search_car = driver.find_element_by_xpath('//div[@class=\"_6QaMX\"]')\n",
    "search_car"
   ]
  },
  {
   "cell_type": "code",
   "execution_count": 27,
   "id": "c721e466",
   "metadata": {},
   "outputs": [],
   "source": [
    "product_urls = []\n",
    "start=0\n",
    "end=1\n",
    "for page in range(start,end):#for loop for scrapping 1 page\n",
    "    url=driver.find_elements_by_xpath('//div[@class=\"col-4\"]//a')       #scraping urls\n",
    "    for i in url:\n",
    "        product_urls.append(i.get_attribute(\"href\"))                        #appending the urls in product_urls list\n",
    "    #nxt_button=driver.find_element_by_xpath(\"//button[@class='rui-39-wj rui-3evoE rui-1JPTg']\")     #scraping the list of buttons from the page\n",
    "    #nxt_button.click()\n",
    "    #time.sleep(2)"
   ]
  },
  {
   "cell_type": "code",
   "execution_count": 28,
   "id": "e979e158",
   "metadata": {},
   "outputs": [
    {
     "data": {
      "text/plain": [
       "[]"
      ]
     },
     "execution_count": 28,
     "metadata": {},
     "output_type": "execute_result"
    }
   ],
   "source": [
    "product_urls"
   ]
  },
  {
   "cell_type": "code",
   "execution_count": null,
   "id": "4ae4ad07",
   "metadata": {},
   "outputs": [],
   "source": []
  }
 ],
 "metadata": {
  "kernelspec": {
   "display_name": "Python 3",
   "language": "python",
   "name": "python3"
  },
  "language_info": {
   "codemirror_mode": {
    "name": "ipython",
    "version": 3
   },
   "file_extension": ".py",
   "mimetype": "text/x-python",
   "name": "python",
   "nbconvert_exporter": "python",
   "pygments_lexer": "ipython3",
   "version": "3.8.8"
  }
 },
 "nbformat": 4,
 "nbformat_minor": 5
}
